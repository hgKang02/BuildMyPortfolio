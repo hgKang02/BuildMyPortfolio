{
  "nbformat": 4,
  "nbformat_minor": 0,
  "metadata": {
    "colab": {
      "provenance": [],
      "collapsed_sections": [
        "ngNOS3nGrlHL",
        "QvM_C8f5qrYb",
        "fOXjBJK2xJNX",
        "JpNbAk1DeAll",
        "9vUX6JWDw1Rn",
        "yfPfNILE-hft",
        "-HV0bolI_zos",
        "hYiThcGU6roW",
        "nGr09R_D2yMv",
        "EIekB2Ooy8J1"
      ],
      "include_colab_link": true
    },
    "kernelspec": {
      "name": "python3",
      "display_name": "Python 3"
    },
    "language_info": {
      "name": "python"
    },
    "accelerator": "GPU",
    "gpuClass": "standard"
  },
  "cells": [
    {
      "cell_type": "markdown",
      "metadata": {
        "id": "view-in-github",
        "colab_type": "text"
      },
      "source": [
        "<a href=\"https://colab.research.google.com/github/hgKang02/BuildMyPortfolio/blob/main/build_my_portfolio.ipynb\" target=\"_parent\"><img src=\"https://colab.research.google.com/assets/colab-badge.svg\" alt=\"Open In Colab\"/></a>"
      ]
    },
    {
      "cell_type": "markdown",
      "source": [
        "#Portfolio Overview\n"
      ],
      "metadata": {
        "id": "ngNOS3nGrlHL"
      }
    },
    {
      "cell_type": "markdown",
      "source": [
        "1. Retreive the user's portfolio(store as json?)\n",
        "\n",
        "2. Use Markoweitz Model for Data Visualisation\n",
        "\n",
        "3. Assess risk factor. Find data base or model to tag stocks\n",
        "\n",
        "4. RL start with given user portfolio\n"
      ],
      "metadata": {
        "id": "p2e6y43H3Vvg"
      }
    },
    {
      "cell_type": "markdown",
      "source": [
        "#import libraries\n"
      ],
      "metadata": {
        "id": "QvM_C8f5qrYb"
      }
    },
    {
      "cell_type": "code",
      "source": [
        "! pip install yfinance\n",
        "! pip install pandas_datareader\n",
        "! pip install get-all-tickers\n",
        "! pip install YahooFinancials"
      ],
      "metadata": {
        "id": "PfUXVqdwe2K4",
        "colab": {
          "base_uri": "https://localhost:8080/"
        },
        "outputId": "4d8c1d61-85de-4124-bea9-8a7e5a007205"
      },
      "execution_count": null,
      "outputs": [
        {
          "output_type": "stream",
          "name": "stdout",
          "text": [
            "Looking in indexes: https://pypi.org/simple, https://us-python.pkg.dev/colab-wheels/public/simple/\n",
            "Requirement already satisfied: yfinance in /usr/local/lib/python3.10/dist-packages (0.2.18)\n",
            "Requirement already satisfied: pandas>=1.3.0 in /usr/local/lib/python3.10/dist-packages (from yfinance) (1.5.3)\n",
            "Requirement already satisfied: numpy>=1.16.5 in /usr/local/lib/python3.10/dist-packages (from yfinance) (1.22.4)\n",
            "Requirement already satisfied: requests>=2.26 in /usr/local/lib/python3.10/dist-packages (from yfinance) (2.27.1)\n",
            "Requirement already satisfied: multitasking>=0.0.7 in /usr/local/lib/python3.10/dist-packages (from yfinance) (0.0.11)\n",
            "Requirement already satisfied: lxml>=4.9.1 in /usr/local/lib/python3.10/dist-packages (from yfinance) (4.9.2)\n",
            "Requirement already satisfied: appdirs>=1.4.4 in /usr/local/lib/python3.10/dist-packages (from yfinance) (1.4.4)\n",
            "Requirement already satisfied: pytz>=2022.5 in /usr/local/lib/python3.10/dist-packages (from yfinance) (2022.7.1)\n",
            "Requirement already satisfied: frozendict>=2.3.4 in /usr/local/lib/python3.10/dist-packages (from yfinance) (2.3.7)\n",
            "Requirement already satisfied: cryptography>=3.3.2 in /usr/local/lib/python3.10/dist-packages (from yfinance) (40.0.2)\n",
            "Requirement already satisfied: beautifulsoup4>=4.11.1 in /usr/local/lib/python3.10/dist-packages (from yfinance) (4.11.2)\n",
            "Requirement already satisfied: html5lib>=1.1 in /usr/local/lib/python3.10/dist-packages (from yfinance) (1.1)\n",
            "Requirement already satisfied: soupsieve>1.2 in /usr/local/lib/python3.10/dist-packages (from beautifulsoup4>=4.11.1->yfinance) (2.4.1)\n",
            "Requirement already satisfied: cffi>=1.12 in /usr/local/lib/python3.10/dist-packages (from cryptography>=3.3.2->yfinance) (1.15.1)\n",
            "Requirement already satisfied: six>=1.9 in /usr/local/lib/python3.10/dist-packages (from html5lib>=1.1->yfinance) (1.16.0)\n",
            "Requirement already satisfied: webencodings in /usr/local/lib/python3.10/dist-packages (from html5lib>=1.1->yfinance) (0.5.1)\n",
            "Requirement already satisfied: python-dateutil>=2.8.1 in /usr/local/lib/python3.10/dist-packages (from pandas>=1.3.0->yfinance) (2.8.2)\n",
            "Requirement already satisfied: urllib3<1.27,>=1.21.1 in /usr/local/lib/python3.10/dist-packages (from requests>=2.26->yfinance) (1.26.15)\n",
            "Requirement already satisfied: certifi>=2017.4.17 in /usr/local/lib/python3.10/dist-packages (from requests>=2.26->yfinance) (2022.12.7)\n",
            "Requirement already satisfied: charset-normalizer~=2.0.0 in /usr/local/lib/python3.10/dist-packages (from requests>=2.26->yfinance) (2.0.12)\n",
            "Requirement already satisfied: idna<4,>=2.5 in /usr/local/lib/python3.10/dist-packages (from requests>=2.26->yfinance) (3.4)\n",
            "Requirement already satisfied: pycparser in /usr/local/lib/python3.10/dist-packages (from cffi>=1.12->cryptography>=3.3.2->yfinance) (2.21)\n",
            "Looking in indexes: https://pypi.org/simple, https://us-python.pkg.dev/colab-wheels/public/simple/\n",
            "Requirement already satisfied: pandas_datareader in /usr/local/lib/python3.10/dist-packages (0.10.0)\n",
            "Requirement already satisfied: lxml in /usr/local/lib/python3.10/dist-packages (from pandas_datareader) (4.9.2)\n",
            "Requirement already satisfied: pandas>=0.23 in /usr/local/lib/python3.10/dist-packages (from pandas_datareader) (1.5.3)\n",
            "Requirement already satisfied: requests>=2.19.0 in /usr/local/lib/python3.10/dist-packages (from pandas_datareader) (2.27.1)\n",
            "Requirement already satisfied: python-dateutil>=2.8.1 in /usr/local/lib/python3.10/dist-packages (from pandas>=0.23->pandas_datareader) (2.8.2)\n",
            "Requirement already satisfied: pytz>=2020.1 in /usr/local/lib/python3.10/dist-packages (from pandas>=0.23->pandas_datareader) (2022.7.1)\n",
            "Requirement already satisfied: numpy>=1.21.0 in /usr/local/lib/python3.10/dist-packages (from pandas>=0.23->pandas_datareader) (1.22.4)\n",
            "Requirement already satisfied: urllib3<1.27,>=1.21.1 in /usr/local/lib/python3.10/dist-packages (from requests>=2.19.0->pandas_datareader) (1.26.15)\n",
            "Requirement already satisfied: certifi>=2017.4.17 in /usr/local/lib/python3.10/dist-packages (from requests>=2.19.0->pandas_datareader) (2022.12.7)\n",
            "Requirement already satisfied: charset-normalizer~=2.0.0 in /usr/local/lib/python3.10/dist-packages (from requests>=2.19.0->pandas_datareader) (2.0.12)\n",
            "Requirement already satisfied: idna<4,>=2.5 in /usr/local/lib/python3.10/dist-packages (from requests>=2.19.0->pandas_datareader) (3.4)\n",
            "Requirement already satisfied: six>=1.5 in /usr/local/lib/python3.10/dist-packages (from python-dateutil>=2.8.1->pandas>=0.23->pandas_datareader) (1.16.0)\n",
            "Looking in indexes: https://pypi.org/simple, https://us-python.pkg.dev/colab-wheels/public/simple/\n",
            "Collecting get-all-tickers\n",
            "  Downloading get_all_tickers-1.8.tar.gz (3.4 kB)\n",
            "  Preparing metadata (setup.py) ... \u001b[?25l\u001b[?25hdone\n",
            "Requirement already satisfied: pandas in /usr/local/lib/python3.10/dist-packages (from get-all-tickers) (1.5.3)\n",
            "Requirement already satisfied: requests in /usr/local/lib/python3.10/dist-packages (from get-all-tickers) (2.27.1)\n",
            "Requirement already satisfied: python-dateutil>=2.8.1 in /usr/local/lib/python3.10/dist-packages (from pandas->get-all-tickers) (2.8.2)\n",
            "Requirement already satisfied: pytz>=2020.1 in /usr/local/lib/python3.10/dist-packages (from pandas->get-all-tickers) (2022.7.1)\n",
            "Requirement already satisfied: numpy>=1.21.0 in /usr/local/lib/python3.10/dist-packages (from pandas->get-all-tickers) (1.22.4)\n",
            "Requirement already satisfied: urllib3<1.27,>=1.21.1 in /usr/local/lib/python3.10/dist-packages (from requests->get-all-tickers) (1.26.15)\n",
            "Requirement already satisfied: certifi>=2017.4.17 in /usr/local/lib/python3.10/dist-packages (from requests->get-all-tickers) (2022.12.7)\n",
            "Requirement already satisfied: charset-normalizer~=2.0.0 in /usr/local/lib/python3.10/dist-packages (from requests->get-all-tickers) (2.0.12)\n",
            "Requirement already satisfied: idna<4,>=2.5 in /usr/local/lib/python3.10/dist-packages (from requests->get-all-tickers) (3.4)\n",
            "Requirement already satisfied: six>=1.5 in /usr/local/lib/python3.10/dist-packages (from python-dateutil>=2.8.1->pandas->get-all-tickers) (1.16.0)\n",
            "Building wheels for collected packages: get-all-tickers\n",
            "  Building wheel for get-all-tickers (setup.py) ... \u001b[?25l\u001b[?25hdone\n",
            "  Created wheel for get-all-tickers: filename=get_all_tickers-1.8-py3-none-any.whl size=4247 sha256=5e969b5a46427484804f79200a86aabf407f5456d60a97de7f1b0ae064f02906\n",
            "  Stored in directory: /root/.cache/pip/wheels/ca/d0/7d/7cbb7c19dc3b20b205bff412d6db0d81180ceceb07bd9d4ba8\n",
            "Successfully built get-all-tickers\n",
            "Installing collected packages: get-all-tickers\n",
            "Successfully installed get-all-tickers-1.8\n",
            "Looking in indexes: https://pypi.org/simple, https://us-python.pkg.dev/colab-wheels/public/simple/\n",
            "Collecting YahooFinancials\n",
            "  Downloading yahoofinancials-1.14.tar.gz (41 kB)\n",
            "\u001b[2K     \u001b[90m━━━━━━━━━━━━━━━━━━━━━━━━━━━━━━━━━━━━━━━━\u001b[0m \u001b[32m41.5/41.5 kB\u001b[0m \u001b[31m4.6 MB/s\u001b[0m eta \u001b[36m0:00:00\u001b[0m\n",
            "\u001b[?25h  Preparing metadata (setup.py) ... \u001b[?25l\u001b[?25hdone\n",
            "Requirement already satisfied: pytz in /usr/local/lib/python3.10/dist-packages (from YahooFinancials) (2022.7.1)\n",
            "Requirement already satisfied: requests>=2.26 in /usr/local/lib/python3.10/dist-packages (from YahooFinancials) (2.27.1)\n",
            "Requirement already satisfied: urllib3<1.27,>=1.21.1 in /usr/local/lib/python3.10/dist-packages (from requests>=2.26->YahooFinancials) (1.26.15)\n",
            "Requirement already satisfied: certifi>=2017.4.17 in /usr/local/lib/python3.10/dist-packages (from requests>=2.26->YahooFinancials) (2022.12.7)\n",
            "Requirement already satisfied: charset-normalizer~=2.0.0 in /usr/local/lib/python3.10/dist-packages (from requests>=2.26->YahooFinancials) (2.0.12)\n",
            "Requirement already satisfied: idna<4,>=2.5 in /usr/local/lib/python3.10/dist-packages (from requests>=2.26->YahooFinancials) (3.4)\n",
            "Building wheels for collected packages: YahooFinancials\n",
            "  Building wheel for YahooFinancials (setup.py) ... \u001b[?25l\u001b[?25hdone\n",
            "  Created wheel for YahooFinancials: filename=yahoofinancials-1.14-py3-none-any.whl size=28643 sha256=a2fe3b59547145c77d466d2510cb05a40d20d88d5a22df869c3152ca0a2ae614\n",
            "  Stored in directory: /root/.cache/pip/wheels/32/a3/b6/b5b33187f2d42f095fecc236b957b46173fa09e78a106e309f\n",
            "Successfully built YahooFinancials\n",
            "Installing collected packages: YahooFinancials\n",
            "Successfully installed YahooFinancials-1.14\n"
          ]
        }
      ]
    },
    {
      "cell_type": "code",
      "source": [
        "import pandas as pd\n",
        "import pandas_datareader as pdr\n",
        "import datetime\n",
        "import numpy as np\n",
        "from get_all_tickers import get_tickers as gt\n",
        "import yfinance as yf\n",
        "from yahoofinancials import YahooFinancials as yaf\n"
      ],
      "metadata": {
        "id": "QU-hT6req7qI"
      },
      "execution_count": null,
      "outputs": []
    },
    {
      "cell_type": "markdown",
      "source": [
        "# Retrieve data on existing portfolio\n"
      ],
      "metadata": {
        "id": "fOXjBJK2xJNX"
      }
    },
    {
      "cell_type": "code",
      "source": [
        "from google.colab import drive\n",
        "import json\n",
        "drive.mount('/content/gdrive')"
      ],
      "metadata": {
        "colab": {
          "base_uri": "https://localhost:8080/"
        },
        "id": "cRbVpmI3raLD",
        "outputId": "fec8a0a8-cdfa-41e5-dac0-a43b5b378389"
      },
      "execution_count": null,
      "outputs": [
        {
          "output_type": "stream",
          "name": "stdout",
          "text": [
            "Mounted at /content/gdrive\n"
          ]
        }
      ]
    },
    {
      "cell_type": "code",
      "source": [
        "def is_valid(portfolio):\n",
        "  sum = 0\n",
        "  for idx in portfolio['ticker']:\n",
        "    sum += portfolio[\"ratio\"][idx]\n",
        "\n",
        "  assert(sum == 1)"
      ],
      "metadata": {
        "id": "yBbK4w-H-Fwp"
      },
      "execution_count": null,
      "outputs": []
    },
    {
      "cell_type": "code",
      "source": [
        "with open('/content/gdrive/MyDrive/portfolio/portfolio.json') as json_file:\n",
        "    portfolio = json.load(json_file)\n",
        "\n",
        "print(portfolio)\n",
        "\n",
        "#portfolio = {\"ticker\":{\"0\":\"ATVI\",\"1\":\"ZEUS\",\"2\":\"PEP\",\"3\":\"GTLB\"},\"ratio\":{\"0\":0.1,\"1\":0.3,\"2\":0.45,\"3\":0.15}}\n",
        "is_valid(portfolio)"
      ],
      "metadata": {
        "id": "FMdcjI3k-Ndc",
        "colab": {
          "base_uri": "https://localhost:8080/"
        },
        "outputId": "81844139-9e72-4d32-9633-55979063f2b9"
      },
      "execution_count": null,
      "outputs": [
        {
          "output_type": "stream",
          "name": "stdout",
          "text": [
            "{'ticker': {'0': 'AAPL', '1': 'TSLA', '2': 'AMZN'}, 'ratio': {'0': 0.3, '1': 0.5, '2': 0.2}}\n"
          ]
        }
      ]
    },
    {
      "cell_type": "markdown",
      "source": [
        "# Retreive data using yahoo finance\n"
      ],
      "metadata": {
        "id": "JpNbAk1DeAll"
      }
    },
    {
      "cell_type": "markdown",
      "source": [
        "get stocks of tickers and categorise into 4 categories\n",
        "(slow growers, stalwarts, fast growers, asset) using a Classification model\n",
        "\n",
        "Use 10 stock tickers for each category to train the model. 10 stocks are chosen upon expert's opinion and general concensus"
      ],
      "metadata": {
        "id": "6IFqg8pajNwb"
      }
    },
    {
      "cell_type": "markdown",
      "source": [
        "Based on Peter Lynch's 6 categories of Stocks. Excluded turnarounds and Asset opportunities since it is difficult to find out without looking at the Financial Statements\n",
        "\n",
        "Data fields needed : Price, Volume, Dividends, Stock Splits, Growth rate, PEG, ROE, Industry\n",
        "\n",
        "1. Slow Growers : Slow growers are those stocks that have a slow growth rate(1~4%) but gives decent dividends\n",
        "\n",
        "-\n",
        "\n",
        "2. Stalwarts : Large well-established company that still offers long-term growth potential. Earning growth (10% ~ 12%) -> PEG lower than 1(underrated)\n",
        "\n",
        "-\n",
        "\n",
        "3. Fast Growers : Generally aggressive companies and they grow at an impressive rate of 15-25% per year.\n",
        "\n",
        "-\n",
        "\n",
        "4. Cyclicals : Stocks that grow at a very fast pace during their favorable economic cycle\n",
        "\n",
        "-\n"
      ],
      "metadata": {
        "id": "6AqeHRCkqAB1"
      }
    },
    {
      "cell_type": "markdown",
      "source": [
        "Data for one Ticker"
      ],
      "metadata": {
        "id": "gfcU3WFPtC82"
      }
    },
    {
      "cell_type": "code",
      "source": [
        "def inputTick() :\n",
        "  ticker = input(\"input the STOCKCODE in Yahoo Finance form(ex. 'AAPL') : \").strip().split(\"'\")[1].upper()\n",
        "  return ticker"
      ],
      "metadata": {
        "id": "bFdgl-UMs-M_"
      },
      "execution_count": null,
      "outputs": []
    },
    {
      "cell_type": "code",
      "source": [
        "def checkTicker(tick) :\n",
        "  data = yf.Ticker(tick)\n",
        "  data = data.history(period=('7y'))\n",
        "\n",
        "  if data.size == 0 :\n",
        "    print('Invalid ticker')\n",
        "\n",
        "    #ticker = inputTick()\n",
        "    #checkTicker(ticker)\n",
        "    return\n",
        "  else :\n",
        "    #data.info()\n",
        "    return data"
      ],
      "metadata": {
        "id": "2lN9s6aYuWVp"
      },
      "execution_count": null,
      "outputs": []
    },
    {
      "cell_type": "markdown",
      "source": [
        "# Update Portfolio"
      ],
      "metadata": {
        "id": "9vUX6JWDw1Rn"
      }
    },
    {
      "cell_type": "markdown",
      "source": [
        "- 티커와 금액이 주어졌을 때 포트폴리오로 저장"
      ],
      "metadata": {
        "id": "tKhqJJftw7hg"
      }
    },
    {
      "cell_type": "code",
      "source": [
        "file_path = '/content/gdrive/MyDrive/portfolio/portfolio.json'\n",
        "#original = portfolio = {\"ticker\":{\"0\":\"ATVI\",\"1\":\"ZEUS\",\"2\":\"PEP\",\"3\":\"GTLB\"},\"ratio\":{\"0\":0.1,\"1\":0.3,\"2\":0.45,\"3\":0.15}}\n",
        "portfolio = {\"ticker\":{\"0\":\"AAPL\",\"1\":\"TSLA\",\"2\":\"AMZN\"},\"ratio\":{\"0\":0.3,\"1\":0.5,\"2\":0.2}}\n",
        "with open(file_path, 'w') as f:\n",
        "  json.dump(portfolio, f)\n",
        "f.close()"
      ],
      "metadata": {
        "id": "rFT47E8r0ysr",
        "colab": {
          "base_uri": "https://localhost:8080/",
          "height": 347
        },
        "outputId": "1c415cde-830a-46d6-ba45-671fa7a56ca9"
      },
      "execution_count": null,
      "outputs": [
        {
          "output_type": "error",
          "ename": "FileNotFoundError",
          "evalue": "ignored",
          "traceback": [
            "\u001b[0;31m---------------------------------------------------------------------------\u001b[0m",
            "\u001b[0;31mFileNotFoundError\u001b[0m                         Traceback (most recent call last)",
            "\u001b[0;32m<ipython-input-6-27d786d62a0e>\u001b[0m in \u001b[0;36m<cell line: 4>\u001b[0;34m()\u001b[0m\n\u001b[1;32m      2\u001b[0m \u001b[0;31m#original = portfolio = {\"ticker\":{\"0\":\"ATVI\",\"1\":\"ZEUS\",\"2\":\"PEP\",\"3\":\"GTLB\"},\"ratio\":{\"0\":0.1,\"1\":0.3,\"2\":0.45,\"3\":0.15}}\u001b[0m\u001b[0;34m\u001b[0m\u001b[0;34m\u001b[0m\u001b[0m\n\u001b[1;32m      3\u001b[0m \u001b[0mportfolio\u001b[0m \u001b[0;34m=\u001b[0m \u001b[0;34m{\u001b[0m\u001b[0;34m\"ticker\"\u001b[0m\u001b[0;34m:\u001b[0m\u001b[0;34m{\u001b[0m\u001b[0;34m\"0\"\u001b[0m\u001b[0;34m:\u001b[0m\u001b[0;34m\"AAPL\"\u001b[0m\u001b[0;34m,\u001b[0m\u001b[0;34m\"1\"\u001b[0m\u001b[0;34m:\u001b[0m\u001b[0;34m\"TSLA\"\u001b[0m\u001b[0;34m,\u001b[0m\u001b[0;34m\"2\"\u001b[0m\u001b[0;34m:\u001b[0m\u001b[0;34m\"AMZN\"\u001b[0m\u001b[0;34m}\u001b[0m\u001b[0;34m,\u001b[0m\u001b[0;34m\"ratio\"\u001b[0m\u001b[0;34m:\u001b[0m\u001b[0;34m{\u001b[0m\u001b[0;34m\"0\"\u001b[0m\u001b[0;34m:\u001b[0m\u001b[0;36m0.3\u001b[0m\u001b[0;34m,\u001b[0m\u001b[0;34m\"1\"\u001b[0m\u001b[0;34m:\u001b[0m\u001b[0;36m0.5\u001b[0m\u001b[0;34m,\u001b[0m\u001b[0;34m\"2\"\u001b[0m\u001b[0;34m:\u001b[0m\u001b[0;36m0.2\u001b[0m\u001b[0;34m}\u001b[0m\u001b[0;34m}\u001b[0m\u001b[0;34m\u001b[0m\u001b[0;34m\u001b[0m\u001b[0m\n\u001b[0;32m----> 4\u001b[0;31m \u001b[0;32mwith\u001b[0m \u001b[0mopen\u001b[0m\u001b[0;34m(\u001b[0m\u001b[0mfile_path\u001b[0m\u001b[0;34m,\u001b[0m \u001b[0;34m'w'\u001b[0m\u001b[0;34m)\u001b[0m \u001b[0;32mas\u001b[0m \u001b[0mf\u001b[0m\u001b[0;34m:\u001b[0m\u001b[0;34m\u001b[0m\u001b[0;34m\u001b[0m\u001b[0m\n\u001b[0m\u001b[1;32m      5\u001b[0m   \u001b[0mjson\u001b[0m\u001b[0;34m.\u001b[0m\u001b[0mdump\u001b[0m\u001b[0;34m(\u001b[0m\u001b[0mportfolio\u001b[0m\u001b[0;34m,\u001b[0m \u001b[0mf\u001b[0m\u001b[0;34m)\u001b[0m\u001b[0;34m\u001b[0m\u001b[0;34m\u001b[0m\u001b[0m\n\u001b[1;32m      6\u001b[0m \u001b[0mf\u001b[0m\u001b[0;34m.\u001b[0m\u001b[0mclose\u001b[0m\u001b[0;34m(\u001b[0m\u001b[0;34m)\u001b[0m\u001b[0;34m\u001b[0m\u001b[0;34m\u001b[0m\u001b[0m\n",
            "\u001b[0;31mFileNotFoundError\u001b[0m: [Errno 2] No such file or directory: '/content/gdrive/MyDrive/portfolio/portfolio.json'"
          ]
        }
      ]
    },
    {
      "cell_type": "code",
      "source": [
        "with open(file_path, 'r') as f:\n",
        "  pf_data = json.load(f) # dictionary\n",
        "f.close()\n",
        "\n",
        "def read_portfolio(pf_data):\n",
        "  ticks = []\n",
        "  ratio = []\n",
        "  for idx in pf_data['ticker']:\n",
        "    ticks.append(pf_data['ticker'][idx])\n",
        "    ratio.append(pf_data['ratio'][idx])\n",
        "  return ticks, ratio\n",
        "\n",
        "ticks, ratio = read_portfolio(pf_data)"
      ],
      "metadata": {
        "id": "F81wuIMEy3lD"
      },
      "execution_count": null,
      "outputs": []
    },
    {
      "cell_type": "code",
      "source": [
        "import pandas as pd\n",
        "df = pd.DataFrame({'ticker':ticks, 'ratio':ratio})\n",
        "df"
      ],
      "metadata": {
        "id": "zZnUMY_J2Wax"
      },
      "execution_count": null,
      "outputs": []
    },
    {
      "cell_type": "code",
      "source": [
        "df_name = 'past_portfolio.json'\n",
        "df.to_json(df_name)"
      ],
      "metadata": {
        "id": "OvtRqp9u30Xf"
      },
      "execution_count": null,
      "outputs": []
    },
    {
      "cell_type": "markdown",
      "source": [
        "# \bTicker into dataframe\n",
        "\n"
      ],
      "metadata": {
        "id": "-BF3KTZHtPHc"
      }
    },
    {
      "cell_type": "markdown",
      "source": [
        "- Build a random portfolio according with the dataset that is classified above."
      ],
      "metadata": {
        "id": "RX4gMMT1tUbC"
      }
    },
    {
      "cell_type": "markdown",
      "source": [
        "pandas -> last column will be the classification lable."
      ],
      "metadata": {
        "id": "2-l84dP3t5eW"
      }
    },
    {
      "cell_type": "code",
      "source": [
        "import requests\n",
        "from bs4 import BeautifulSoup"
      ],
      "metadata": {
        "id": "ASE2dTQB51ou"
      },
      "execution_count": null,
      "outputs": []
    },
    {
      "cell_type": "code",
      "source": [
        "base = \"https://finance.yahoo.com\"\n",
        "sub = \"/most-active\""
      ],
      "metadata": {
        "id": "Hq2vqzbetTVz"
      },
      "execution_count": null,
      "outputs": []
    },
    {
      "cell_type": "code",
      "source": [
        "headers = {\n",
        "    \"User-Agent\": \"Mozilla/5.0 (Windows NT 6.1; Win64; x64) AppleWebKit/537.36\"+\\\n",
        "                  \" (KHTML, like Gecko) Chrome/108.0.0.0 Safari/537.36\"}"
      ],
      "metadata": {
        "id": "H1wZMQUH58Wi"
      },
      "execution_count": null,
      "outputs": []
    },
    {
      "cell_type": "code",
      "source": [
        "def scrape_history():\n",
        "  html = requests.get(base+sub, headers=headers, timeout=30)\n",
        "  soup = BeautifulSoup(html.text, 'lxml')\n",
        "  for tr in soup.find_all(\"tr\", {'class': 'simpTblRow Bgc($hoverBgColor):h BdB Bdbc($seperatorColor) Bdbc($tableBorderBlue):h H(32px) Bgc($lv2BgColor)'}):\n",
        "    link = tr.find('a')['href']\n",
        "    q = link.split('?')\n",
        "    q = q[0]+'/history?'+'period1=1277769600&period2=1679616000&interval=1d&filter=history&frequency=1d&includeAdjustedClose=true'\n",
        "    html = requests.get(base+q, headers=headers, timeout=30)\n",
        "    soup = BeautifulSoup(html.text, 'lxml')"
      ],
      "metadata": {
        "id": "mpfEqWVV_iMz"
      },
      "execution_count": null,
      "outputs": []
    },
    {
      "cell_type": "code",
      "source": [
        "def scrape_stats(url):\n",
        "  html = requests.get(url, headers=headers, timeout=30)\n",
        "  soup = BeautifulSoup(html.text, 'lxml')\n",
        "  # PEG\n",
        "  for row in soup.find_all(\"tr\", {\"class\": \"Bxz(bb) H(36px) BdB Bdbc($seperatorColor) fi-row Bgc($hoverBgColor):h\"}):\n",
        "    if \"PEG\" in row.find(\"td\").text:\n",
        "      peg = row.find(class_=\"Ta(c) Pstart(10px) Miw(60px) Miw(80px)--pnclg Bgc($lv1BgColor) fi-row:h_Bgc($hoverBgColor)\").text\n",
        "      break\n",
        "  # ROE\n",
        "  for row in soup.find_all(\"tr\", {\"class\": \"Bxz(bb) H(36px) BdB Bdbc($seperatorColor)\"}):\n",
        "    if \"Return on Equity\" in row.find(\"td\").text:\n",
        "      roe = row.find(class_=\"Fw(500) Ta(end) Pstart(10px) Miw(60px)\").text\n",
        "      roe = roe[:-1]\n",
        "      return peg, roe"
      ],
      "metadata": {
        "id": "OSpA9u6Uqzk8"
      },
      "execution_count": null,
      "outputs": []
    },
    {
      "cell_type": "code",
      "source": [
        "def scrape_industry(url, ticker):\n",
        "  html = requests.get(url, headers=headers, timeout=30)\n",
        "  soup = BeautifulSoup(html.text, 'lxml')\n",
        "  for row in soup.find_all(\"tr\", {\"class\": \"data-rowTSLA Bgc($hoverBgColor):h BdT Bdc($seperatorColor) Bdc($tableBorderBlue):h H(33px)\"}):\n",
        "    if ticker == row.find(\"td\").text:\n",
        "      industry = row.find(class_=\"data-col3 Ta(start) Pstart(20px) Miw(60px)\").text\n",
        "      return industry"
      ],
      "metadata": {
        "id": "xTG-_3nGxaIZ"
      },
      "execution_count": null,
      "outputs": []
    },
    {
      "cell_type": "code",
      "source": [
        "def scrape_by_tick(tick):\n",
        "  base = \"https://finance.yahoo.com/quote/\"\n",
        "  lookup_base = \"https://finance.yahoo.com/lookup?s=\"\n",
        "  profile_url = lookup_base + tick\n",
        "  stats_url = base + tick + \"/key-statistics?p=\" + tick\n",
        "  #industry = scrape_industry(profile_url, tick)\n",
        "  peg, roe = scrape_stats(stats_url)\n",
        "  return peg, roe"
      ],
      "metadata": {
        "id": "9O3ABSYetcn8"
      },
      "execution_count": null,
      "outputs": []
    },
    {
      "cell_type": "code",
      "source": [
        "def tickToDF(ticker) :\n",
        "  data = checkTicker(ticker)\n",
        "  dividends = pd.Series(data['Dividends'])\n",
        "  dividend = 0.0\n",
        "  if (data['Dividends'].nunique() > 1):\n",
        "    dividend = dividends[dividends[dividends != 0.0].index[-1]]\n",
        "  print(type(dividend))\n",
        "  # peg, roe = scrape_by_tick(ticker)\n",
        "  extra_features = np.array([[dividend]])\n",
        "  # extra_features = np.append(extra_features)\n",
        "  #extra_features = dividend\n",
        "  data = data.reset_index().drop(['Date','Dividends', 'Stock Splits'],axis=1)\n",
        "  return data, extra_features"
      ],
      "metadata": {
        "id": "o6jpE57wRrKs",
        "colab": {
          "base_uri": "https://localhost:8080/"
        },
        "outputId": "8f959276-9c6d-4db0-b39e-3cdbe8f150a5"
      },
      "execution_count": null,
      "outputs": [
        {
          "output_type": "stream",
          "name": "stderr",
          "text": [
            "/usr/local/lib/python3.10/dist-packages/ipykernel/ipkernel.py:283: DeprecationWarning: `should_run_async` will not call `transform_cell` automatically in the future. Please pass the result to `transformed_cell` argument and any exception that happen during thetransform in `preprocessing_exc_tuple` in IPython 7.17 and above.\n",
            "  and should_run_async(code)\n"
          ]
        }
      ]
    },
    {
      "cell_type": "code",
      "source": [
        "def tickToDFDate(ticker) :\n",
        "  data = checkTicker(ticker)\n",
        "  dividends = pd.Series(data['Dividends'])\n",
        "  dividend = 0.0\n",
        "  if (data['Dividends'].nunique() > 1):\n",
        "    dividend = dividends[dividends[dividends != 0.0].index[-1]]\n",
        "  print(type(dividend))\n",
        "  # peg, roe = scrape_by_tick(ticker)\n",
        "  extra_features = np.array([[dividend]])\n",
        "  # extra_features = np.append(extra_features)\n",
        "  #extra_features = dividend\n",
        "  data = data.reset_index().drop(['Dividends', 'Stock Splits'],axis=1)\n",
        "  return data, extra_features"
      ],
      "metadata": {
        "id": "3chfzr6kTjqD"
      },
      "execution_count": null,
      "outputs": []
    },
    {
      "cell_type": "code",
      "source": [
        "#ticker = input(\"Plug in the ticker that you want: \")\n",
        "#data, extra_features = tickToDF(ticker)\n",
        "#print(extra_features)\n",
        "#extra_features\n",
        "#data.head()"
      ],
      "metadata": {
        "id": "SFj0lhtkA-tQ"
      },
      "execution_count": null,
      "outputs": []
    },
    {
      "cell_type": "markdown",
      "source": [
        "# Training data for Classification model"
      ],
      "metadata": {
        "id": "yfPfNILE-hft"
      }
    },
    {
      "cell_type": "code",
      "source": [
        "# SG = Slow growers, SW = Stalwarts, FG = Fast Growers, CY = Cyclicals\n",
        "train = {'SG' : [\"AAPL\", \"CL\", \"MSFT\", \"BLK\", \"CME\", \"MA\", \"PFG\", \"V\", \"RES\", \"GE\"],\n",
        "         'SW' : [\"INTC\", \"CHD\", \"XOM\", \"PG\", \"MCD\", \"KMB\", \"JNJ\", \"MMM\", \"T\", \"FDX\"],\n",
        "         'FG' : [\"TSLA\", \"GOOG\", \"CPRX\", \"AMZN\", \"AMGN\", \"META\", \"GOOGL\", \"NVDA\", \"SHOP\", \"ROKU\"],\n",
        "         'CY' : [\"DAL\", \"COST\", \"AA\", \"NKE\", \"JWN\", \"TGT\", \"SBUX\", \"DIS\", \"F\", \"HD\"]}"
      ],
      "metadata": {
        "id": "QVQg1Ad6-wKW"
      },
      "execution_count": null,
      "outputs": []
    },
    {
      "cell_type": "code",
      "source": [
        "label_dict = {'SG':0 ,'SW':1, 'FG':2, 'CY':3}"
      ],
      "metadata": {
        "id": "rto96GqVwfh6"
      },
      "execution_count": null,
      "outputs": []
    },
    {
      "cell_type": "markdown",
      "source": [
        "## go through train dictionary to build a df"
      ],
      "metadata": {
        "id": "-HV0bolI_zos"
      }
    },
    {
      "cell_type": "code",
      "source": [
        "train_dict = {}\n",
        "for k, v in train.items():\n",
        "  for tick in v :\n",
        "    t = tick\n",
        "    data, extra_features = tickToDF(t)\n",
        "    train_dict[tick] = [data, extra_features, k]"
      ],
      "metadata": {
        "colab": {
          "base_uri": "https://localhost:8080/"
        },
        "id": "L7TZbMKD_RrA",
        "outputId": "02fdb847-c4e3-41de-fbf5-5f868be2dad1"
      },
      "execution_count": null,
      "outputs": [
        {
          "output_type": "stream",
          "name": "stdout",
          "text": [
            "<class 'numpy.float64'>\n",
            "<class 'numpy.float64'>\n",
            "<class 'numpy.float64'>\n",
            "<class 'numpy.float64'>\n",
            "<class 'numpy.float64'>\n",
            "<class 'numpy.float64'>\n",
            "<class 'numpy.float64'>\n",
            "<class 'numpy.float64'>\n",
            "<class 'numpy.float64'>\n",
            "<class 'numpy.float64'>\n",
            "<class 'numpy.float64'>\n",
            "<class 'numpy.float64'>\n",
            "<class 'numpy.float64'>\n",
            "<class 'numpy.float64'>\n",
            "<class 'numpy.float64'>\n",
            "<class 'numpy.float64'>\n",
            "<class 'numpy.float64'>\n",
            "<class 'numpy.float64'>\n",
            "<class 'numpy.float64'>\n",
            "<class 'numpy.float64'>\n",
            "<class 'float'>\n",
            "<class 'float'>\n",
            "<class 'float'>\n",
            "<class 'float'>\n",
            "<class 'numpy.float64'>\n",
            "<class 'float'>\n",
            "<class 'float'>\n",
            "<class 'numpy.float64'>\n",
            "<class 'float'>\n",
            "<class 'float'>\n",
            "<class 'numpy.float64'>\n",
            "<class 'numpy.float64'>\n",
            "<class 'numpy.float64'>\n",
            "<class 'numpy.float64'>\n",
            "<class 'numpy.float64'>\n",
            "<class 'numpy.float64'>\n",
            "<class 'numpy.float64'>\n",
            "<class 'numpy.float64'>\n",
            "<class 'numpy.float64'>\n",
            "<class 'numpy.float64'>\n"
          ]
        }
      ]
    },
    {
      "cell_type": "markdown",
      "source": [
        "# Stock Classification model"
      ],
      "metadata": {
        "id": "hYiThcGU6roW"
      }
    },
    {
      "cell_type": "code",
      "source": [
        "# train_dict {ticker : [dataframe, extra_features(np.array), label]}\n",
        "#example : meta\n",
        "print(len(train_dict))\n",
        "print(train_dict['META'])"
      ],
      "metadata": {
        "id": "lW6t-WEU6jXZ",
        "outputId": "f81854c2-5f15-438c-aa99-a1549edfb393",
        "colab": {
          "base_uri": "https://localhost:8080/"
        }
      },
      "execution_count": null,
      "outputs": [
        {
          "output_type": "stream",
          "name": "stdout",
          "text": [
            "40\n",
            "[                          Date        Open        High         Low  \\\n",
            "0    2016-05-02 00:00:00-04:00  117.830002  118.730003  116.570000   \n",
            "1    2016-05-03 00:00:00-04:00  117.519997  118.160004  117.019997   \n",
            "2    2016-05-04 00:00:00-04:00  116.610001  118.300003  116.570000   \n",
            "3    2016-05-05 00:00:00-04:00  118.040001  118.980003  117.250000   \n",
            "4    2016-05-06 00:00:00-04:00  117.160004  119.639999  117.110001   \n",
            "...                        ...         ...         ...         ...   \n",
            "1757 2023-04-25 00:00:00-04:00  210.820007  211.259995  207.130005   \n",
            "1758 2023-04-26 00:00:00-04:00  212.500000  214.110001  208.880005   \n",
            "1759 2023-04-27 00:00:00-04:00  239.889999  241.690002  236.770004   \n",
            "1760 2023-04-28 00:00:00-04:00  239.009995  240.429993  235.750000   \n",
            "1761 2023-05-01 00:00:00-04:00  238.615005  244.000000  236.460007   \n",
            "\n",
            "           Close    Volume  \n",
            "0     118.570000  28095200  \n",
            "1     117.430000  24117500  \n",
            "2     118.059998  23448400  \n",
            "3     117.809998  22056700  \n",
            "4     119.489998  26395600  \n",
            "...          ...       ...  \n",
            "1757  207.550003  19198200  \n",
            "1758  209.399994  41992700  \n",
            "1759  238.559998  71196500  \n",
            "1760  240.320007  39554000  \n",
            "1761  243.179993  29086187  \n",
            "\n",
            "[1762 rows x 6 columns], array([[0.]]), 'FG']\n"
          ]
        }
      ]
    },
    {
      "cell_type": "code",
      "source": [
        "import torch\n",
        "import torch.nn as nn\n",
        "import torch.nn.functional as F\n",
        "from torch.optim import SGD, Adam\n",
        "from torch.autograd import Variable\n",
        "from sklearn.preprocessing import MinMaxScaler\n",
        "from tqdm import tqdm"
      ],
      "metadata": {
        "id": "UY8D1k-Yr1LF",
        "colab": {
          "base_uri": "https://localhost:8080/"
        },
        "outputId": "5e49bd36-1750-4118-b08e-e02a826a89e7"
      },
      "execution_count": null,
      "outputs": [
        {
          "output_type": "stream",
          "name": "stderr",
          "text": [
            "/usr/local/lib/python3.10/dist-packages/ipykernel/ipkernel.py:283: DeprecationWarning: `should_run_async` will not call `transform_cell` automatically in the future. Please pass the result to `transformed_cell` argument and any exception that happen during thetransform in `preprocessing_exc_tuple` in IPython 7.17 and above.\n",
            "  and should_run_async(code)\n"
          ]
        }
      ]
    },
    {
      "cell_type": "code",
      "source": [
        "for tick in train_dict:\n",
        "  # scaler = MinMaxScaler()\n",
        "  # train_dict[tick][0] = scaler.fit_transform(train_dict[tick][0])\n",
        "  train_dict[tick][0] = train_dict[tick][0].to_numpy()"
      ],
      "metadata": {
        "id": "Vyc4jyR9szXI"
      },
      "execution_count": null,
      "outputs": []
    },
    {
      "cell_type": "code",
      "source": [
        "for tick in train_dict:\n",
        "  train_dict[tick][0] = torch.Tensor(train_dict[tick][0])\n",
        "  # x = x.permute(1,0)\n",
        "  train_dict[tick][0] = train_dict[tick][0].unsqueeze(0)\n"
      ],
      "metadata": {
        "id": "5A8KagAQxI31",
        "colab": {
          "base_uri": "https://localhost:8080/",
          "height": 228
        },
        "outputId": "fe58e421-b125-4109-c174-d151062b0a61"
      },
      "execution_count": null,
      "outputs": [
        {
          "output_type": "error",
          "ename": "TypeError",
          "evalue": "ignored",
          "traceback": [
            "\u001b[0;31m---------------------------------------------------------------------------\u001b[0m",
            "\u001b[0;31mTypeError\u001b[0m                                 Traceback (most recent call last)",
            "\u001b[0;32m<ipython-input-98-eb7577a0ac9e>\u001b[0m in \u001b[0;36m<cell line: 1>\u001b[0;34m()\u001b[0m\n\u001b[1;32m      1\u001b[0m \u001b[0;32mfor\u001b[0m \u001b[0mtick\u001b[0m \u001b[0;32min\u001b[0m \u001b[0mtrain_dict\u001b[0m\u001b[0;34m:\u001b[0m\u001b[0;34m\u001b[0m\u001b[0;34m\u001b[0m\u001b[0m\n\u001b[0;32m----> 2\u001b[0;31m   \u001b[0mtrain_dict\u001b[0m\u001b[0;34m[\u001b[0m\u001b[0mtick\u001b[0m\u001b[0;34m]\u001b[0m\u001b[0;34m[\u001b[0m\u001b[0;36m0\u001b[0m\u001b[0;34m]\u001b[0m \u001b[0;34m=\u001b[0m \u001b[0mtorch\u001b[0m\u001b[0;34m.\u001b[0m\u001b[0mTensor\u001b[0m\u001b[0;34m(\u001b[0m\u001b[0mtrain_dict\u001b[0m\u001b[0;34m[\u001b[0m\u001b[0mtick\u001b[0m\u001b[0;34m]\u001b[0m\u001b[0;34m[\u001b[0m\u001b[0;36m0\u001b[0m\u001b[0;34m]\u001b[0m\u001b[0;34m)\u001b[0m\u001b[0;34m\u001b[0m\u001b[0;34m\u001b[0m\u001b[0m\n\u001b[0m\u001b[1;32m      3\u001b[0m   \u001b[0;31m# x = x.permute(1,0)\u001b[0m\u001b[0;34m\u001b[0m\u001b[0;34m\u001b[0m\u001b[0m\n\u001b[1;32m      4\u001b[0m   \u001b[0mtrain_dict\u001b[0m\u001b[0;34m[\u001b[0m\u001b[0mtick\u001b[0m\u001b[0;34m]\u001b[0m\u001b[0;34m[\u001b[0m\u001b[0;36m0\u001b[0m\u001b[0;34m]\u001b[0m \u001b[0;34m=\u001b[0m \u001b[0mtrain_dict\u001b[0m\u001b[0;34m[\u001b[0m\u001b[0mtick\u001b[0m\u001b[0;34m]\u001b[0m\u001b[0;34m[\u001b[0m\u001b[0;36m0\u001b[0m\u001b[0;34m]\u001b[0m\u001b[0;34m.\u001b[0m\u001b[0munsqueeze\u001b[0m\u001b[0;34m(\u001b[0m\u001b[0;36m0\u001b[0m\u001b[0;34m)\u001b[0m\u001b[0;34m\u001b[0m\u001b[0;34m\u001b[0m\u001b[0m\n",
            "\u001b[0;31mTypeError\u001b[0m: can't convert np.ndarray of type numpy.object_. The only supported types are: float64, float32, float16, complex64, complex128, int64, int32, int16, int8, uint8, and bool."
          ]
        }
      ]
    },
    {
      "cell_type": "code",
      "source": [
        "for tick in train_dict:\n",
        "  train_dict[tick][-1] = torch.LongTensor([label_dict[train_dict[tick][-1]]])\n",
        "  # train_dict[tick][-1] = torch.nn.functional.one_hot(torch.LongTensor([label_dict[train_dict[tick][-1]]]), num_classes=len(label_dict))\n",
        "  # x = x.permute(1,0)\n",
        "  # train_dict[tick][-1] = train_dict[tick][-1].unsqueeze(0)\n"
      ],
      "metadata": {
        "id": "QZiffXclyQRs"
      },
      "execution_count": null,
      "outputs": []
    },
    {
      "cell_type": "code",
      "source": [
        "train_dict[tick][-1].size()"
      ],
      "metadata": {
        "colab": {
          "base_uri": "https://localhost:8080/"
        },
        "id": "WpsRRTpR0sRs",
        "outputId": "b1b4b50b-0aa5-4f24-e822-8bd13cb31cdd"
      },
      "execution_count": null,
      "outputs": [
        {
          "output_type": "execute_result",
          "data": {
            "text/plain": [
              "torch.Size([1])"
            ]
          },
          "metadata": {},
          "execution_count": 99
        }
      ]
    },
    {
      "cell_type": "code",
      "source": [
        "class LSTM_classifier(nn.Module):\n",
        "  def __init__(self, embed_dim, out_dim, device='cpu', dropout=0.2):\n",
        "    super(LSTM_classifier, self).__init__()\n",
        "    self.out_dim = out_dim\n",
        "    self.device = device\n",
        "    self.lstm = nn.LSTM(input_size=embed_dim, hidden_size=out_dim, dropout = dropout, batch_first=True)\n",
        "    self.fc1 = nn.Linear(out_dim, 32)\n",
        "\n",
        "  def forward(self, x):\n",
        "    h0 = Variable(torch.zeros(x.size(0), 1, self.out_dim)).to(self.device)\n",
        "    c0 = Variable(torch.zeros(x.size(0), 1, self.out_dim)).to(self.device)\n",
        "    _, (hn, cn) = self.lstm(x, (h0, c0))\n",
        "    output = F.relu(self.fc1(hn))\n",
        "    return output"
      ],
      "metadata": {
        "id": "HqZbVbj9tz7F"
      },
      "execution_count": null,
      "outputs": []
    },
    {
      "cell_type": "code",
      "source": [
        "class Classifier(nn.Module):\n",
        "  def __init__(self, embed_dim, out_dim, device='cpu', dropout=0.2):\n",
        "    super(Classifier, self).__init__()\n",
        "    self.open_lstm = LSTM_classifier(embed_dim, out_dim, device, dropout)\n",
        "    self.high_lstm = LSTM_classifier(embed_dim, out_dim, device, dropout)\n",
        "    self.low_lstm = LSTM_classifier(embed_dim, out_dim, device, dropout)\n",
        "    self.close_lstm = LSTM_classifier(embed_dim, out_dim, device, dropout)"
      ],
      "metadata": {
        "id": "oFnj9im_2NdC"
      },
      "execution_count": null,
      "outputs": []
    },
    {
      "cell_type": "code",
      "source": [
        "embed_dim = 5\n",
        "out_dim = 32\n",
        "device = 'cpu'\n",
        "model = LSTM_classifier(embed_dim, out_dim, device, dropout=0.2)"
      ],
      "metadata": {
        "id": "dEphpddWquBn",
        "colab": {
          "base_uri": "https://localhost:8080/"
        },
        "outputId": "67f159fa-1eff-4eaf-a841-a877106f4b2c"
      },
      "execution_count": null,
      "outputs": [
        {
          "output_type": "stream",
          "name": "stderr",
          "text": [
            "/usr/local/lib/python3.10/dist-packages/torch/nn/modules/rnn.py:71: UserWarning: dropout option adds dropout after all but last recurrent layer, so non-zero dropout expects num_layers greater than 1, but got dropout=0.2 and num_layers=1\n",
            "  warnings.warn(\"dropout option adds dropout after all but last \"\n"
          ]
        }
      ]
    },
    {
      "cell_type": "code",
      "source": [
        "optimizer = SGD(model.parameters(), lr=1e-1)\n",
        "criterion = nn.CrossEntropyLoss()"
      ],
      "metadata": {
        "id": "DSPa2EB_1uvp"
      },
      "execution_count": null,
      "outputs": []
    },
    {
      "cell_type": "code",
      "source": [
        "def train(model, optimizer, criterion, train_dict, epoch = 10, device='cpu'):\n",
        "  model = model.to(device)\n",
        "  for i in range(epoch):\n",
        "    epoch_loss = 0\n",
        "    for tick in tqdm(train_dict):\n",
        "      x = train_dict[tick][0]\n",
        "      y = train_dict[tick][-1]\n",
        "      x = x.to(device)\n",
        "      y = y.to(device)\n",
        "\n",
        "      optimizer.zero_grad()\n",
        "      pred = model(x)\n",
        "      loss = criterion(pred, y)\n",
        "      loss.backward()\n",
        "      optimizer.step()\n",
        "\n",
        "      epoch_loss += loss\n",
        "    print(f\"EPOCH {i+1} total: {epoch_loss}, avg: {epoch_loss/len(train_dict)}\")\n"
      ],
      "metadata": {
        "id": "iP0i_yy20oWV"
      },
      "execution_count": null,
      "outputs": []
    },
    {
      "cell_type": "code",
      "source": [
        "train(model, optimizer, criterion, train_dict, 7, 'cpu')"
      ],
      "metadata": {
        "colab": {
          "base_uri": "https://localhost:8080/",
          "height": 319
        },
        "id": "hCoWSuXhzLND",
        "outputId": "440d8797-95e5-45a1-bb02-cc9e2dfa66ff"
      },
      "execution_count": null,
      "outputs": [
        {
          "output_type": "stream",
          "name": "stderr",
          "text": [
            "  0%|          | 0/40 [00:00<?, ?it/s]\n"
          ]
        },
        {
          "output_type": "error",
          "ename": "AttributeError",
          "evalue": "ignored",
          "traceback": [
            "\u001b[0;31m---------------------------------------------------------------------------\u001b[0m",
            "\u001b[0;31mAttributeError\u001b[0m                            Traceback (most recent call last)",
            "\u001b[0;32m<ipython-input-105-bdf0b2a84f2a>\u001b[0m in \u001b[0;36m<cell line: 1>\u001b[0;34m()\u001b[0m\n\u001b[0;32m----> 1\u001b[0;31m \u001b[0mtrain\u001b[0m\u001b[0;34m(\u001b[0m\u001b[0mmodel\u001b[0m\u001b[0;34m,\u001b[0m \u001b[0moptimizer\u001b[0m\u001b[0;34m,\u001b[0m \u001b[0mcriterion\u001b[0m\u001b[0;34m,\u001b[0m \u001b[0mtrain_dict\u001b[0m\u001b[0;34m,\u001b[0m \u001b[0;36m7\u001b[0m\u001b[0;34m,\u001b[0m \u001b[0;34m'cpu'\u001b[0m\u001b[0;34m)\u001b[0m\u001b[0;34m\u001b[0m\u001b[0;34m\u001b[0m\u001b[0m\n\u001b[0m",
            "\u001b[0;32m<ipython-input-104-390f2a7f9d72>\u001b[0m in \u001b[0;36mtrain\u001b[0;34m(model, optimizer, criterion, train_dict, epoch, device)\u001b[0m\n\u001b[1;32m      6\u001b[0m       \u001b[0mx\u001b[0m \u001b[0;34m=\u001b[0m \u001b[0mtrain_dict\u001b[0m\u001b[0;34m[\u001b[0m\u001b[0mtick\u001b[0m\u001b[0;34m]\u001b[0m\u001b[0;34m[\u001b[0m\u001b[0;36m0\u001b[0m\u001b[0;34m]\u001b[0m\u001b[0;34m\u001b[0m\u001b[0;34m\u001b[0m\u001b[0m\n\u001b[1;32m      7\u001b[0m       \u001b[0my\u001b[0m \u001b[0;34m=\u001b[0m \u001b[0mtrain_dict\u001b[0m\u001b[0;34m[\u001b[0m\u001b[0mtick\u001b[0m\u001b[0;34m]\u001b[0m\u001b[0;34m[\u001b[0m\u001b[0;34m-\u001b[0m\u001b[0;36m1\u001b[0m\u001b[0;34m]\u001b[0m\u001b[0;34m\u001b[0m\u001b[0;34m\u001b[0m\u001b[0m\n\u001b[0;32m----> 8\u001b[0;31m       \u001b[0mx\u001b[0m \u001b[0;34m=\u001b[0m \u001b[0mx\u001b[0m\u001b[0;34m.\u001b[0m\u001b[0mto\u001b[0m\u001b[0;34m(\u001b[0m\u001b[0mdevice\u001b[0m\u001b[0;34m)\u001b[0m\u001b[0;34m\u001b[0m\u001b[0;34m\u001b[0m\u001b[0m\n\u001b[0m\u001b[1;32m      9\u001b[0m       \u001b[0my\u001b[0m \u001b[0;34m=\u001b[0m \u001b[0my\u001b[0m\u001b[0;34m.\u001b[0m\u001b[0mto\u001b[0m\u001b[0;34m(\u001b[0m\u001b[0mdevice\u001b[0m\u001b[0;34m)\u001b[0m\u001b[0;34m\u001b[0m\u001b[0;34m\u001b[0m\u001b[0m\n\u001b[1;32m     10\u001b[0m \u001b[0;34m\u001b[0m\u001b[0m\n",
            "\u001b[0;31mAttributeError\u001b[0m: 'numpy.ndarray' object has no attribute 'to'"
          ]
        }
      ]
    },
    {
      "cell_type": "markdown",
      "source": [
        "## Inference"
      ],
      "metadata": {
        "id": "nGr09R_D2yMv"
      }
    },
    {
      "cell_type": "code",
      "source": [
        "data, _ = tickToDF('RES')\n",
        "data"
      ],
      "metadata": {
        "id": "_OF4cPa719rv"
      },
      "execution_count": null,
      "outputs": []
    },
    {
      "cell_type": "code",
      "source": [
        "# scaler = MinMaxScaler()\n",
        "# data = scaler.fit_transform(data)\n",
        "# data\n",
        "data = data.to_numpy()"
      ],
      "metadata": {
        "id": "cxEusWEI2xBb"
      },
      "execution_count": null,
      "outputs": []
    },
    {
      "cell_type": "code",
      "source": [
        "data = torch.Tensor(data)\n",
        "data = data.unsqueeze(0)\n",
        "data.size()"
      ],
      "metadata": {
        "id": "NNsVAbVc3dMZ"
      },
      "execution_count": null,
      "outputs": []
    },
    {
      "cell_type": "code",
      "source": [
        "for tick in train_dict:\n",
        "  pred = model(train_dict[tick][0])\n",
        "  print(torch.argmax(pred, dim=1), train_dict[tick][-1])"
      ],
      "metadata": {
        "id": "XaKDtTgU4xyu"
      },
      "execution_count": null,
      "outputs": []
    },
    {
      "cell_type": "markdown",
      "source": [
        "# Markoweitz Visualisation"
      ],
      "metadata": {
        "id": "EIekB2Ooy8J1"
      }
    },
    {
      "cell_type": "code",
      "source": [
        "import numpy as np\n",
        "import matplotlib.pyplot as plt\n",
        "import cvxopt as opt\n",
        "from cvxopt import blas, solvers\n",
        "import pandas as pd\n",
        "\n",
        "np.random.seed(123)\n",
        "\n",
        "# Turn off progress printing\n",
        "solvers.options['show_progress'] = False"
      ],
      "metadata": {
        "id": "CNXcwDw1y_Fc"
      },
      "execution_count": null,
      "outputs": []
    },
    {
      "cell_type": "code",
      "source": [
        "## NUMBER OF ASSETS\n",
        "n_assets = 4\n",
        "## n_assets = len(df)\n",
        "\n",
        "## NUMBER OF OBSERVATIONS\n",
        "n_obs = 1000\n",
        "\n",
        "return_vec = np.random.randn(n_assets, n_obs)"
      ],
      "metadata": {
        "id": "fmFQQ482zJts"
      },
      "execution_count": null,
      "outputs": []
    },
    {
      "cell_type": "code",
      "source": [
        "plt.plot(return_vec.T, alpha=.4);\n",
        "plt.xlabel('time')\n",
        "plt.ylabel('returns')"
      ],
      "metadata": {
        "colab": {
          "base_uri": "https://localhost:8080/",
          "height": 467
        },
        "id": "-Cup5YfTzaGB",
        "outputId": "a5816c84-768a-4346-d8f9-871e356ad4bd"
      },
      "execution_count": null,
      "outputs": [
        {
          "output_type": "execute_result",
          "data": {
            "text/plain": [
              "Text(0, 0.5, 'returns')"
            ]
          },
          "metadata": {},
          "execution_count": 63
        },
        {
          "output_type": "display_data",
          "data": {
            "text/plain": [
              "<Figure size 640x480 with 1 Axes>"
            ],
            "image/png": "[encoded data removed]"
          },
          "metadata": {}
        }
      ]
    },
    {
      "cell_type": "code",
      "source": [
        "def rand_weights(n):\n",
        "    ''' Produces n random weights that sum to 1 '''\n",
        "    k = np.random.rand(n)\n",
        "    return k / sum(k)"
      ],
      "metadata": {
        "id": "ZB58S2kvzkSi"
      },
      "execution_count": null,
      "outputs": []
    },
    {
      "cell_type": "code",
      "source": [
        "def random_portfolio(returns):\n",
        "    '''\n",
        "    Returns the mean and standard deviation of returns for a random portfolio\n",
        "    '''\n",
        "\n",
        "    p = np.asmatrix(np.mean(returns, axis=1))\n",
        "    w = np.asmatrix(rand_weights(returns.shape[0]))\n",
        "    C = np.asmatrix(np.cov(returns))\n",
        "\n",
        "    mu = w * p.T\n",
        "    sigma = np.sqrt(w * C * w.T)\n",
        "\n",
        "    # This recursion reduces outliers to keep plots pretty\n",
        "    if sigma > 2:\n",
        "        return random_portfolio(returns)\n",
        "    return mu, sigma"
      ],
      "metadata": {
        "id": "2Y3joexezlxH"
      },
      "execution_count": null,
      "outputs": []
    },
    {
      "cell_type": "code",
      "source": [
        "n_portfolios = 500\n",
        "means, stds = np.column_stack([random_portfolio(return_vec) for _ in range(n_portfolios)])"
      ],
      "metadata": {
        "id": "P5W0ohPbznVm"
      },
      "execution_count": null,
      "outputs": []
    },
    {
      "cell_type": "code",
      "source": [
        "def optimal_portfolio(returns):\n",
        "    n = len(returns)\n",
        "    returns = np.asmatrix(returns)\n",
        "\n",
        "    N = 100\n",
        "    mus = [10**(5.0 * t/N - 1.0) for t in range(N)]\n",
        "\n",
        "    # Convert to cvxopt matrices\n",
        "    S = opt.matrix(np.cov(returns))\n",
        "    pbar = opt.matrix(np.mean(returns, axis=1))\n",
        "\n",
        "    # Create constraint matrices\n",
        "    G = -opt.matrix(np.eye(n))   # negative n x n identity matrix\n",
        "    h = opt.matrix(0.0, (n ,1))\n",
        "    A = opt.matrix(1.0, (1, n))\n",
        "    b = opt.matrix(1.0)\n",
        "\n",
        "    # Calculate efficient frontier weights using quadratic programming\n",
        "    portfolios = [solvers.qp(mu*S, -pbar, G, h, A, b)['x']\n",
        "                  for mu in mus]\n",
        "    ## CALCULATE RISKS AND RETURNS FOR FRONTIER\n",
        "    returns = [blas.dot(pbar, x) for x in portfolios]\n",
        "    risks = [np.sqrt(blas.dot(x, S*x)) for x in portfolios]\n",
        "    ## CALCULATE THE 2ND DEGREE POLYNOMIAL OF THE FRONTIER CURVE\n",
        "    m1 = np.polyfit(returns, risks, 2)\n",
        "    x1 = np.sqrt(m1[2] / m1[0])\n",
        "    # CALCULATE THE OPTIMAL PORTFOLIO\n",
        "    wt = solvers.qp(opt.matrix(x1 * S), -pbar, G, h, A, b)['x']\n",
        "    return np.asarray(wt), returns, risks"
      ],
      "metadata": {
        "id": "Q-azCfxuz2aO"
      },
      "execution_count": null,
      "outputs": []
    },
    {
      "cell_type": "code",
      "source": [
        "plt.plot(stds, means, 'o', markersize=5)\n",
        "plt.xlabel('std')\n",
        "plt.ylabel('mean')\n",
        "plt.title('Mean and standard deviation of returns of randomly generated portfolios')"
      ],
      "metadata": {
        "colab": {
          "base_uri": "https://localhost:8080/",
          "height": 490
        },
        "id": "xLrv0hFCzo9-",
        "outputId": "46c8efcc-6132-4230-d5d5-98a13bcfcc7c"
      },
      "execution_count": null,
      "outputs": [
        {
          "output_type": "execute_result",
          "data": {
            "text/plain": [
              "Text(0.5, 1.0, 'Mean and standard deviation of returns of randomly generated portfolios')"
            ]
          },
          "metadata": {},
          "execution_count": 68
        },
        {
          "output_type": "display_data",
          "data": {
            "text/plain": [
              "<Figure size 640x480 with 1 Axes>"
            ],
            "image/png": "[encoded data removed]"
          },
          "metadata": {}
        }
      ]
    },
    {
      "cell_type": "markdown",
      "source": [
        "## Markowitz optimization and the Efficient Frontier\n"
      ],
      "metadata": {
        "id": "dnFuR2-80i9d"
      }
    },
    {
      "cell_type": "code",
      "source": [
        "weights, returns, risks = optimal_portfolio(return_vec)\n",
        "#plt.plot(stds, means, 'o')\n",
        "plt.ylabel('mean')\n",
        "plt.xlabel('std')\n",
        "plt.plot(risks, returns, 'y-o')"
      ],
      "metadata": {
        "colab": {
          "base_uri": "https://localhost:8080/",
          "height": 467
        },
        "id": "Cv_4Nu6wz0DK",
        "outputId": "180d2a9b-15cc-4d85-8c5a-746177236e57"
      },
      "execution_count": null,
      "outputs": [
        {
          "output_type": "execute_result",
          "data": {
            "text/plain": [
              "[<matplotlib.lines.Line2D at 0x7f0304d556c0>]"
            ]
          },
          "metadata": {},
          "execution_count": 69
        },
        {
          "output_type": "display_data",
          "data": {
            "text/plain": [
              "<Figure size 640x480 with 1 Axes>"
            ],
            "image/png": "[encoded data removed]"
          },
          "metadata": {}
        }
      ]
    },
    {
      "cell_type": "markdown",
      "source": [
        "# 환경 설정"
      ],
      "metadata": {
        "id": "Wd-mFe-q0Ak4"
      }
    },
    {
      "cell_type": "markdown",
      "source": [
        "1. json file을 4개의 카테고리로 나누기 -> 고성장주, 저성장주 등등\n",
        "2. 그 json file로 RL environment 만들기\n",
        "3. 마지막에 optimized 된 포트폴리오 다시 json으로 저장"
      ],
      "metadata": {
        "id": "Bu_wZX5J0GyI"
      }
    },
    {
      "cell_type": "markdown",
      "source": [
        "# RL environment"
      ],
      "metadata": {
        "id": "a7xJCMz0yB0W"
      }
    },
    {
      "cell_type": "markdown",
      "source": [
        "##import dependencies"
      ],
      "metadata": {
        "id": "pa_8VkdJPag7"
      }
    },
    {
      "cell_type": "code",
      "source": [
        "!pip install setuptools==65.5.0\n",
        "!pip install torch torchvision\n",
        "!pip install stable-baselines3[extra]\n",
        "!pip install gym-anytrading\n",
        "!pip install gym"
      ],
      "metadata": {
        "id": "o6MEvv79ywAR",
        "colab": {
          "base_uri": "https://localhost:8080/"
        },
        "outputId": "f6b09915-6b93-4312-fefb-8f3e0003bdd2"
      },
      "execution_count": null,
      "outputs": [
        {
          "output_type": "stream",
          "name": "stdout",
          "text": [
            "Looking in indexes: https://pypi.org/simple, https://us-python.pkg.dev/colab-wheels/public/simple/\n",
            "Collecting setuptools==65.5.0\n",
            "  Downloading setuptools-65.5.0-py3-none-any.whl (1.2 MB)\n",
            "\u001b[2K     \u001b[90m━━━━━━━━━━━━━━━━━━━━━━━━━━━━━━━━━━━━━━━━\u001b[0m \u001b[32m1.2/1.2 MB\u001b[0m \u001b[31m18.3 MB/s\u001b[0m eta \u001b[36m0:00:00\u001b[0m\n",
            "\u001b[?25hInstalling collected packages: setuptools\n",
            "  Attempting uninstall: setuptools\n",
            "    Found existing installation: setuptools 67.7.2\n",
            "    Uninstalling setuptools-67.7.2:\n",
            "      Successfully uninstalled setuptools-67.7.2\n",
            "\u001b[31mERROR: pip's dependency resolver does not currently take into account all the packages that are installed. This behaviour is the source of the following dependency conflicts.\n",
            "ipython 7.34.0 requires jedi>=0.16, which is not installed.\n",
            "cvxpy 1.3.1 requires setuptools>65.5.1, but you have setuptools 65.5.0 which is incompatible.\u001b[0m\u001b[31m\n",
            "\u001b[0mSuccessfully installed setuptools-65.5.0\n",
            "Looking in indexes: https://pypi.org/simple, https://us-python.pkg.dev/colab-wheels/public/simple/\n",
            "Requirement already satisfied: torch in /usr/local/lib/python3.10/dist-packages (2.0.0+cu118)\n",
            "Requirement already satisfied: torchvision in /usr/local/lib/python3.10/dist-packages (0.15.1+cu118)\n",
            "Requirement already satisfied: filelock in /usr/local/lib/python3.10/dist-packages (from torch) (3.12.0)\n",
            "Requirement already satisfied: typing-extensions in /usr/local/lib/python3.10/dist-packages (from torch) (4.5.0)\n",
            "Requirement already satisfied: sympy in /usr/local/lib/python3.10/dist-packages (from torch) (1.11.1)\n",
            "Requirement already satisfied: networkx in /usr/local/lib/python3.10/dist-packages (from torch) (3.1)\n",
            "Requirement already satisfied: jinja2 in /usr/local/lib/python3.10/dist-packages (from torch) (3.1.2)\n",
            "Requirement already satisfied: triton==2.0.0 in /usr/local/lib/python3.10/dist-packages (from torch) (2.0.0)\n",
            "Requirement already satisfied: cmake in /usr/local/lib/python3.10/dist-packages (from triton==2.0.0->torch) (3.25.2)\n",
            "Requirement already satisfied: lit in /usr/local/lib/python3.10/dist-packages (from triton==2.0.0->torch) (16.0.2)\n",
            "Requirement already satisfied: numpy in /usr/local/lib/python3.10/dist-packages (from torchvision) (1.22.4)\n",
            "Requirement already satisfied: requests in /usr/local/lib/python3.10/dist-packages (from torchvision) (2.27.1)\n",
            "Requirement already satisfied: pillow!=8.3.*,>=5.3.0 in /usr/local/lib/python3.10/dist-packages (from torchvision) (8.4.0)\n",
            "Requirement already satisfied: MarkupSafe>=2.0 in /usr/local/lib/python3.10/dist-packages (from jinja2->torch) (2.1.2)\n",
            "Requirement already satisfied: urllib3<1.27,>=1.21.1 in /usr/local/lib/python3.10/dist-packages (from requests->torchvision) (1.26.15)\n",
            "Requirement already satisfied: certifi>=2017.4.17 in /usr/local/lib/python3.10/dist-packages (from requests->torchvision) (2022.12.7)\n",
            "Requirement already satisfied: charset-normalizer~=2.0.0 in /usr/local/lib/python3.10/dist-packages (from requests->torchvision) (2.0.12)\n",
            "Requirement already satisfied: idna<4,>=2.5 in /usr/local/lib/python3.10/dist-packages (from requests->torchvision) (3.4)\n",
            "Requirement already satisfied: mpmath>=0.19 in /usr/local/lib/python3.10/dist-packages (from sympy->torch) (1.3.0)\n",
            "Looking in indexes: https://pypi.org/simple, https://us-python.pkg.dev/colab-wheels/public/simple/\n",
            "Collecting stable-baselines3[extra]\n",
            "  Downloading stable_baselines3-1.8.0-py3-none-any.whl (174 kB)\n",
            "\u001b[2K     \u001b[90m━━━━━━━━━━━━━━━━━━━━━━━━━━━━━━━━━━━━━━\u001b[0m \u001b[32m174.5/174.5 kB\u001b[0m \u001b[31m15.4 MB/s\u001b[0m eta \u001b[36m0:00:00\u001b[0m\n",
            "\u001b[?25hCollecting gym==0.21 (from stable-baselines3[extra])\n",
            "  Downloading gym-0.21.0.tar.gz (1.5 MB)\n",
            "\u001b[2K     \u001b[90m━━━━━━━━━━━━━━━━━━━━━━━━━━━━━━━━━━━━━━━━\u001b[0m \u001b[32m1.5/1.5 MB\u001b[0m \u001b[31m79.6 MB/s\u001b[0m eta \u001b[36m0:00:00\u001b[0m\n",
            "\u001b[?25h  Preparing metadata (setup.py) ... \u001b[?25l\u001b[?25hdone\n",
            "Requirement already satisfied: numpy in /usr/local/lib/python3.10/dist-packages (from stable-baselines3[extra]) (1.22.4)\n",
            "Requirement already satisfied: torch>=1.11 in /usr/local/lib/python3.10/dist-packages (from stable-baselines3[extra]) (2.0.0+cu118)\n",
            "Requirement already satisfied: cloudpickle in /usr/local/lib/python3.10/dist-packages (from stable-baselines3[extra]) (2.2.1)\n",
            "Requirement already satisfied: pandas in /usr/local/lib/python3.10/dist-packages (from stable-baselines3[extra]) (1.5.3)\n",
            "Requirement already satisfied: matplotlib in /usr/local/lib/python3.10/dist-packages (from stable-baselines3[extra]) (3.7.1)\n",
            "Collecting importlib-metadata~=4.13 (from stable-baselines3[extra])\n",
            "  Downloading importlib_metadata-4.13.0-py3-none-any.whl (23 kB)\n",
            "Requirement already satisfied: opencv-python in /usr/local/lib/python3.10/dist-packages (from stable-baselines3[extra]) (4.7.0.72)\n",
            "Requirement already satisfied: tensorboard>=2.9.1 in /usr/local/lib/python3.10/dist-packages (from stable-baselines3[extra]) (2.12.2)\n",
            "Requirement already satisfied: psutil in /usr/local/lib/python3.10/dist-packages (from stable-baselines3[extra]) (5.9.5)\n",
            "Requirement already satisfied: tqdm in /usr/local/lib/python3.10/dist-packages (from stable-baselines3[extra]) (4.65.0)\n",
            "Requirement already satisfied: rich in /usr/local/lib/python3.10/dist-packages (from stable-baselines3[extra]) (13.3.4)\n",
            "Collecting ale-py==0.7.4 (from stable-baselines3[extra])\n",
            "  Downloading ale_py-0.7.4-cp310-cp310-manylinux_2_17_x86_64.manylinux2014_x86_64.whl (1.6 MB)\n",
            "\u001b[2K     \u001b[90m━━━━━━━━━━━━━━━━━━━━━━━━━━━━━━━━━━━━━━━━\u001b[0m \u001b[32m1.6/1.6 MB\u001b[0m \u001b[31m80.0 MB/s\u001b[0m eta \u001b[36m0:00:00\u001b[0m\n",
            "\u001b[?25hRequirement already satisfied: pillow in /usr/local/lib/python3.10/dist-packages (from stable-baselines3[extra]) (8.4.0)\n",
            "Collecting autorom[accept-rom-license]~=0.6.0 (from stable-baselines3[extra])\n",
            "  Downloading AutoROM-0.6.1-py3-none-any.whl (9.4 kB)\n",
            "Requirement already satisfied: importlib-resources in /usr/local/lib/python3.10/dist-packages (from ale-py==0.7.4->stable-baselines3[extra]) (5.12.0)\n",
            "Requirement already satisfied: click in /usr/local/lib/python3.10/dist-packages (from autorom[accept-rom-license]~=0.6.0->stable-baselines3[extra]) (8.1.3)\n",
            "Requirement already satisfied: requests in /usr/local/lib/python3.10/dist-packages (from autorom[accept-rom-license]~=0.6.0->stable-baselines3[extra]) (2.27.1)\n",
            "Collecting AutoROM.accept-rom-license (from autorom[accept-rom-license]~=0.6.0->stable-baselines3[extra])\n",
            "  Downloading AutoROM.accept-rom-license-0.6.1.tar.gz (434 kB)\n",
            "\u001b[2K     \u001b[90m━━━━━━━━━━━━━━━━━━━━━━━━━━━━━━━━━━━━━━\u001b[0m \u001b[32m434.7/434.7 kB\u001b[0m \u001b[31m43.1 MB/s\u001b[0m eta \u001b[36m0:00:00\u001b[0m\n",
            "\u001b[?25h  Installing build dependencies ... \u001b[?25l\u001b[?25hdone\n",
            "  Getting requirements to build wheel ... \u001b[?25l\u001b[?25hdone\n",
            "  Preparing metadata (pyproject.toml) ... \u001b[?25l\u001b[?25hdone\n",
            "Requirement already satisfied: zipp>=0.5 in /usr/local/lib/python3.10/dist-packages (from importlib-metadata~=4.13->stable-baselines3[extra]) (3.15.0)\n",
            "Requirement already satisfied: absl-py>=0.4 in /usr/local/lib/python3.10/dist-packages (from tensorboard>=2.9.1->stable-baselines3[extra]) (1.4.0)\n",
            "Requirement already satisfied: grpcio>=1.48.2 in /usr/local/lib/python3.10/dist-packages (from tensorboard>=2.9.1->stable-baselines3[extra]) (1.54.0)\n",
            "Requirement already satisfied: google-auth<3,>=1.6.3 in /usr/local/lib/python3.10/dist-packages (from tensorboard>=2.9.1->stable-baselines3[extra]) (2.17.3)\n",
            "Requirement already satisfied: google-auth-oauthlib<1.1,>=0.5 in /usr/local/lib/python3.10/dist-packages (from tensorboard>=2.9.1->stable-baselines3[extra]) (1.0.0)\n",
            "Requirement already satisfied: markdown>=2.6.8 in /usr/local/lib/python3.10/dist-packages (from tensorboard>=2.9.1->stable-baselines3[extra]) (3.4.3)\n",
            "Requirement already satisfied: protobuf>=3.19.6 in /usr/local/lib/python3.10/dist-packages (from tensorboard>=2.9.1->stable-baselines3[extra]) (3.20.3)\n",
            "Requirement already satisfied: setuptools>=41.0.0 in /usr/local/lib/python3.10/dist-packages (from tensorboard>=2.9.1->stable-baselines3[extra]) (65.5.0)\n",
            "Requirement already satisfied: tensorboard-data-server<0.8.0,>=0.7.0 in /usr/local/lib/python3.10/dist-packages (from tensorboard>=2.9.1->stable-baselines3[extra]) (0.7.0)\n",
            "Requirement already satisfied: tensorboard-plugin-wit>=1.6.0 in /usr/local/lib/python3.10/dist-packages (from tensorboard>=2.9.1->stable-baselines3[extra]) (1.8.1)\n",
            "Requirement already satisfied: werkzeug>=1.0.1 in /usr/local/lib/python3.10/dist-packages (from tensorboard>=2.9.1->stable-baselines3[extra]) (2.3.0)\n",
            "Requirement already satisfied: wheel>=0.26 in /usr/local/lib/python3.10/dist-packages (from tensorboard>=2.9.1->stable-baselines3[extra]) (0.40.0)\n",
            "Requirement already satisfied: filelock in /usr/local/lib/python3.10/dist-packages (from torch>=1.11->stable-baselines3[extra]) (3.12.0)\n",
            "Requirement already satisfied: typing-extensions in /usr/local/lib/python3.10/dist-packages (from torch>=1.11->stable-baselines3[extra]) (4.5.0)\n",
            "Requirement already satisfied: sympy in /usr/local/lib/python3.10/dist-packages (from torch>=1.11->stable-baselines3[extra]) (1.11.1)\n",
            "Requirement already satisfied: networkx in /usr/local/lib/python3.10/dist-packages (from torch>=1.11->stable-baselines3[extra]) (3.1)\n",
            "Requirement already satisfied: jinja2 in /usr/local/lib/python3.10/dist-packages (from torch>=1.11->stable-baselines3[extra]) (3.1.2)\n",
            "Requirement already satisfied: triton==2.0.0 in /usr/local/lib/python3.10/dist-packages (from torch>=1.11->stable-baselines3[extra]) (2.0.0)\n",
            "Requirement already satisfied: cmake in /usr/local/lib/python3.10/dist-packages (from triton==2.0.0->torch>=1.11->stable-baselines3[extra]) (3.25.2)\n",
            "Requirement already satisfied: lit in /usr/local/lib/python3.10/dist-packages (from triton==2.0.0->torch>=1.11->stable-baselines3[extra]) (16.0.2)\n",
            "Requirement already satisfied: contourpy>=1.0.1 in /usr/local/lib/python3.10/dist-packages (from matplotlib->stable-baselines3[extra]) (1.0.7)\n",
            "Requirement already satisfied: cycler>=0.10 in /usr/local/lib/python3.10/dist-packages (from matplotlib->stable-baselines3[extra]) (0.11.0)\n",
            "Requirement already satisfied: fonttools>=4.22.0 in /usr/local/lib/python3.10/dist-packages (from matplotlib->stable-baselines3[extra]) (4.39.3)\n",
            "Requirement already satisfied: kiwisolver>=1.0.1 in /usr/local/lib/python3.10/dist-packages (from matplotlib->stable-baselines3[extra]) (1.4.4)\n",
            "Requirement already satisfied: packaging>=20.0 in /usr/local/lib/python3.10/dist-packages (from matplotlib->stable-baselines3[extra]) (23.1)\n",
            "Requirement already satisfied: pyparsing>=2.3.1 in /usr/local/lib/python3.10/dist-packages (from matplotlib->stable-baselines3[extra]) (3.0.9)\n",
            "Requirement already satisfied: python-dateutil>=2.7 in /usr/local/lib/python3.10/dist-packages (from matplotlib->stable-baselines3[extra]) (2.8.2)\n",
            "Requirement already satisfied: pytz>=2020.1 in /usr/local/lib/python3.10/dist-packages (from pandas->stable-baselines3[extra]) (2022.7.1)\n",
            "Requirement already satisfied: markdown-it-py<3.0.0,>=2.2.0 in /usr/local/lib/python3.10/dist-packages (from rich->stable-baselines3[extra]) (2.2.0)\n",
            "Requirement already satisfied: pygments<3.0.0,>=2.13.0 in /usr/local/lib/python3.10/dist-packages (from rich->stable-baselines3[extra]) (2.14.0)\n",
            "Requirement already satisfied: cachetools<6.0,>=2.0.0 in /usr/local/lib/python3.10/dist-packages (from google-auth<3,>=1.6.3->tensorboard>=2.9.1->stable-baselines3[extra]) (5.3.0)\n",
            "Requirement already satisfied: pyasn1-modules>=0.2.1 in /usr/local/lib/python3.10/dist-packages (from google-auth<3,>=1.6.3->tensorboard>=2.9.1->stable-baselines3[extra]) (0.3.0)\n",
            "Requirement already satisfied: six>=1.9.0 in /usr/local/lib/python3.10/dist-packages (from google-auth<3,>=1.6.3->tensorboard>=2.9.1->stable-baselines3[extra]) (1.16.0)\n",
            "Requirement already satisfied: rsa<5,>=3.1.4 in /usr/local/lib/python3.10/dist-packages (from google-auth<3,>=1.6.3->tensorboard>=2.9.1->stable-baselines3[extra]) (4.9)\n",
            "Requirement already satisfied: requests-oauthlib>=0.7.0 in /usr/local/lib/python3.10/dist-packages (from google-auth-oauthlib<1.1,>=0.5->tensorboard>=2.9.1->stable-baselines3[extra]) (1.3.1)\n",
            "Requirement already satisfied: mdurl~=0.1 in /usr/local/lib/python3.10/dist-packages (from markdown-it-py<3.0.0,>=2.2.0->rich->stable-baselines3[extra]) (0.1.2)\n",
            "Requirement already satisfied: urllib3<1.27,>=1.21.1 in /usr/local/lib/python3.10/dist-packages (from requests->autorom[accept-rom-license]~=0.6.0->stable-baselines3[extra]) (1.26.15)\n",
            "Requirement already satisfied: certifi>=2017.4.17 in /usr/local/lib/python3.10/dist-packages (from requests->autorom[accept-rom-license]~=0.6.0->stable-baselines3[extra]) (2022.12.7)\n",
            "Requirement already satisfied: charset-normalizer~=2.0.0 in /usr/local/lib/python3.10/dist-packages (from requests->autorom[accept-rom-license]~=0.6.0->stable-baselines3[extra]) (2.0.12)\n",
            "Requirement already satisfied: idna<4,>=2.5 in /usr/local/lib/python3.10/dist-packages (from requests->autorom[accept-rom-license]~=0.6.0->stable-baselines3[extra]) (3.4)\n",
            "Requirement already satisfied: MarkupSafe>=2.1.1 in /usr/local/lib/python3.10/dist-packages (from werkzeug>=1.0.1->tensorboard>=2.9.1->stable-baselines3[extra]) (2.1.2)\n",
            "Requirement already satisfied: mpmath>=0.19 in /usr/local/lib/python3.10/dist-packages (from sympy->torch>=1.11->stable-baselines3[extra]) (1.3.0)\n",
            "Requirement already satisfied: pyasn1<0.6.0,>=0.4.6 in /usr/local/lib/python3.10/dist-packages (from pyasn1-modules>=0.2.1->google-auth<3,>=1.6.3->tensorboard>=2.9.1->stable-baselines3[extra]) (0.5.0)\n",
            "Requirement already satisfied: oauthlib>=3.0.0 in /usr/local/lib/python3.10/dist-packages (from requests-oauthlib>=0.7.0->google-auth-oauthlib<1.1,>=0.5->tensorboard>=2.9.1->stable-baselines3[extra]) (3.2.2)\n",
            "Building wheels for collected packages: gym, AutoROM.accept-rom-license\n",
            "  \u001b[1;31merror\u001b[0m: \u001b[1msubprocess-exited-with-error\u001b[0m\n",
            "  \n",
            "  \u001b[31m×\u001b[0m \u001b[32mpython setup.py bdist_wheel\u001b[0m did not run successfully.\n",
            "  \u001b[31m│\u001b[0m exit code: \u001b[1;36m1\u001b[0m\n",
            "  \u001b[31m╰─>\u001b[0m See above for output.\n",
            "  \n",
            "  \u001b[1;35mnote\u001b[0m: This error originates from a subprocess, and is likely not a problem with pip.\n",
            "  Building wheel for gym (setup.py) ... \u001b[?25lerror\n",
            "\u001b[31m  ERROR: Failed building wheel for gym\u001b[0m\u001b[31m\n",
            "\u001b[0m\u001b[?25h  Running setup.py clean for gym\n",
            "  Building wheel for AutoROM.accept-rom-license (pyproject.toml) ... \u001b[?25l\u001b[?25hdone\n",
            "  Created wheel for AutoROM.accept-rom-license: filename=AutoROM.accept_rom_license-0.6.1-py3-none-any.whl size=446676 sha256=f83a2f9266396b84921bb6823b8a2a1e192f5f6409487a19d78f508331caab17\n",
            "  Stored in directory: /root/.cache/pip/wheels/6b/1b/ef/a43ff1a2f1736d5711faa1ba4c1f61be1131b8899e6a057811\n",
            "Successfully built AutoROM.accept-rom-license\n",
            "Failed to build gym\n",
            "\u001b[31mERROR: Could not build wheels for gym, which is required to install pyproject.toml-based projects\u001b[0m\u001b[31m\n",
            "\u001b[0mLooking in indexes: https://pypi.org/simple, https://us-python.pkg.dev/colab-wheels/public/simple/\n",
            "Collecting gym-anytrading\n",
            "  Downloading gym_anytrading-1.3.2-py3-none-any.whl (171 kB)\n",
            "\u001b[2K     \u001b[90m━━━━━━━━━━━━━━━━━━━━━━━━━━━━━━━━━━━━━━\u001b[0m \u001b[32m172.0/172.0 kB\u001b[0m \u001b[31m10.8 MB/s\u001b[0m eta \u001b[36m0:00:00\u001b[0m\n",
            "\u001b[?25hRequirement already satisfied: gym>=0.12.5 in /usr/local/lib/python3.10/dist-packages (from gym-anytrading) (0.25.2)\n",
            "Requirement already satisfied: numpy>=1.16.4 in /usr/local/lib/python3.10/dist-packages (from gym-anytrading) (1.22.4)\n",
            "Requirement already satisfied: pandas>=0.24.2 in /usr/local/lib/python3.10/dist-packages (from gym-anytrading) (1.5.3)\n",
            "Requirement already satisfied: matplotlib>=3.1.1 in /usr/local/lib/python3.10/dist-packages (from gym-anytrading) (3.7.1)\n",
            "Requirement already satisfied: cloudpickle>=1.2.0 in /usr/local/lib/python3.10/dist-packages (from gym>=0.12.5->gym-anytrading) (2.2.1)\n",
            "Requirement already satisfied: gym-notices>=0.0.4 in /usr/local/lib/python3.10/dist-packages (from gym>=0.12.5->gym-anytrading) (0.0.8)\n",
            "Requirement already satisfied: contourpy>=1.0.1 in /usr/local/lib/python3.10/dist-packages (from matplotlib>=3.1.1->gym-anytrading) (1.0.7)\n",
            "Requirement already satisfied: cycler>=0.10 in /usr/local/lib/python3.10/dist-packages (from matplotlib>=3.1.1->gym-anytrading) (0.11.0)\n",
            "Requirement already satisfied: fonttools>=4.22.0 in /usr/local/lib/python3.10/dist-packages (from matplotlib>=3.1.1->gym-anytrading) (4.39.3)\n",
            "Requirement already satisfied: kiwisolver>=1.0.1 in /usr/local/lib/python3.10/dist-packages (from matplotlib>=3.1.1->gym-anytrading) (1.4.4)\n",
            "Requirement already satisfied: packaging>=20.0 in /usr/local/lib/python3.10/dist-packages (from matplotlib>=3.1.1->gym-anytrading) (23.1)\n",
            "Requirement already satisfied: pillow>=6.2.0 in /usr/local/lib/python3.10/dist-packages (from matplotlib>=3.1.1->gym-anytrading) (8.4.0)\n",
            "Requirement already satisfied: pyparsing>=2.3.1 in /usr/local/lib/python3.10/dist-packages (from matplotlib>=3.1.1->gym-anytrading) (3.0.9)\n",
            "Requirement already satisfied: python-dateutil>=2.7 in /usr/local/lib/python3.10/dist-packages (from matplotlib>=3.1.1->gym-anytrading) (2.8.2)\n",
            "Requirement already satisfied: pytz>=2020.1 in /usr/local/lib/python3.10/dist-packages (from pandas>=0.24.2->gym-anytrading) (2022.7.1)\n",
            "Requirement already satisfied: six>=1.5 in /usr/local/lib/python3.10/dist-packages (from python-dateutil>=2.7->matplotlib>=3.1.1->gym-anytrading) (1.16.0)\n",
            "Installing collected packages: gym-anytrading\n",
            "Successfully installed gym-anytrading-1.3.2\n",
            "Looking in indexes: https://pypi.org/simple, https://us-python.pkg.dev/colab-wheels/public/simple/\n",
            "Requirement already satisfied: gym in /usr/local/lib/python3.10/dist-packages (0.25.2)\n",
            "Requirement already satisfied: numpy>=1.18.0 in /usr/local/lib/python3.10/dist-packages (from gym) (1.22.4)\n",
            "Requirement already satisfied: cloudpickle>=1.2.0 in /usr/local/lib/python3.10/dist-packages (from gym) (2.2.1)\n",
            "Requirement already satisfied: gym-notices>=0.0.4 in /usr/local/lib/python3.10/dist-packages (from gym) (0.0.8)\n"
          ]
        }
      ]
    },
    {
      "cell_type": "code",
      "source": [
        "# For environment\n",
        "import gym\n",
        "import matplotlib\n",
        "import matplotlib.pyplot as plt\n",
        "import numpy as np\n",
        "import pandas as pd\n",
        "from gym import spaces\n",
        "from gym.utils import seeding\n",
        "from sklearn.preprocessing import StandardScaler"
      ],
      "metadata": {
        "id": "lnekjQK9QPqM"
      },
      "execution_count": null,
      "outputs": []
    },
    {
      "cell_type": "code",
      "source": [
        "!pip install Cmake"
      ],
      "metadata": {
        "colab": {
          "base_uri": "https://localhost:8080/"
        },
        "id": "pqJjWdZ7KFst",
        "outputId": "d312292a-87d7-4e63-8469-0b158a8a64b5"
      },
      "execution_count": null,
      "outputs": [
        {
          "output_type": "stream",
          "name": "stdout",
          "text": [
            "Looking in indexes: https://pypi.org/simple, https://us-python.pkg.dev/colab-wheels/public/simple/\n",
            "Requirement already satisfied: Cmake in /usr/local/lib/python3.10/dist-packages (3.25.2)\n"
          ]
        }
      ]
    },
    {
      "cell_type": "code",
      "source": [
        "!pip install --upgrade pip setuptools"
      ],
      "metadata": {
        "colab": {
          "base_uri": "https://localhost:8080/"
        },
        "id": "eZu0DmXeKqWx",
        "outputId": "399a26d0-9595-48d2-acd2-2be7a082ef91"
      },
      "execution_count": null,
      "outputs": [
        {
          "output_type": "stream",
          "name": "stdout",
          "text": [
            "Looking in indexes: https://pypi.org/simple, https://us-python.pkg.dev/colab-wheels/public/simple/\n",
            "Requirement already satisfied: pip in /usr/local/lib/python3.10/dist-packages (23.1.2)\n",
            "Requirement already satisfied: setuptools in /usr/local/lib/python3.10/dist-packages (65.5.0)\n",
            "Collecting setuptools\n",
            "  Using cached setuptools-67.7.2-py3-none-any.whl (1.1 MB)\n",
            "Installing collected packages: setuptools\n",
            "  Attempting uninstall: setuptools\n",
            "    Found existing installation: setuptools 65.5.0\n",
            "    Uninstalling setuptools-65.5.0:\n",
            "      Successfully uninstalled setuptools-65.5.0\n",
            "\u001b[31mERROR: pip's dependency resolver does not currently take into account all the packages that are installed. This behaviour is the source of the following dependency conflicts.\n",
            "ipython 7.34.0 requires jedi>=0.16, which is not installed.\u001b[0m\u001b[31m\n",
            "\u001b[0mSuccessfully installed setuptools-67.7.2\n"
          ]
        }
      ]
    },
    {
      "cell_type": "code",
      "source": [
        "!pip install gym==0.21"
      ],
      "metadata": {
        "colab": {
          "base_uri": "https://localhost:8080/"
        },
        "id": "fDKMPm32KR5_",
        "outputId": "82116ff6-cebb-4136-8965-1761c3f47029"
      },
      "execution_count": null,
      "outputs": [
        {
          "output_type": "stream",
          "name": "stdout",
          "text": [
            "Looking in indexes: https://pypi.org/simple, https://us-python.pkg.dev/colab-wheels/public/simple/\n",
            "Collecting gym==0.21\n",
            "  Using cached gym-0.21.0.tar.gz (1.5 MB)\n",
            "  \u001b[1;31merror\u001b[0m: \u001b[1msubprocess-exited-with-error\u001b[0m\n",
            "  \n",
            "  \u001b[31m×\u001b[0m \u001b[32mpython setup.py egg_info\u001b[0m did not run successfully.\n",
            "  \u001b[31m│\u001b[0m exit code: \u001b[1;36m1\u001b[0m\n",
            "  \u001b[31m╰─>\u001b[0m See above for output.\n",
            "  \n",
            "  \u001b[1;35mnote\u001b[0m: This error originates from a subprocess, and is likely not a problem with pip.\n",
            "  Preparing metadata (setup.py) ... \u001b[?25l\u001b[?25herror\n",
            "\u001b[1;31merror\u001b[0m: \u001b[1mmetadata-generation-failed\u001b[0m\n",
            "\n",
            "\u001b[31m×\u001b[0m Encountered error while generating package metadata.\n",
            "\u001b[31m╰─>\u001b[0m See above for output.\n",
            "\n",
            "\u001b[1;35mnote\u001b[0m: This is an issue with the package mentioned above, not pip.\n",
            "\u001b[1;36mhint\u001b[0m: See above for details.\n"
          ]
        }
      ]
    },
    {
      "cell_type": "code",
      "source": [
        "!pip install stable-baselines3[extra]"
      ],
      "metadata": {
        "colab": {
          "base_uri": "https://localhost:8080/"
        },
        "id": "z1IBY1FIJ3VQ",
        "outputId": "b165ae56-16b0-41b5-f39a-f53a38b7eac0"
      },
      "execution_count": null,
      "outputs": [
        {
          "output_type": "stream",
          "name": "stdout",
          "text": [
            "Looking in indexes: https://pypi.org/simple, https://us-python.pkg.dev/colab-wheels/public/simple/\n",
            "Collecting stable-baselines3[extra]\n",
            "  Using cached stable_baselines3-1.8.0-py3-none-any.whl (174 kB)\n",
            "Collecting gym==0.21 (from stable-baselines3[extra])\n",
            "  Using cached gym-0.21.0.tar.gz (1.5 MB)\n",
            "  \u001b[1;31merror\u001b[0m: \u001b[1msubprocess-exited-with-error\u001b[0m\n",
            "  \n",
            "  \u001b[31m×\u001b[0m \u001b[32mpython setup.py egg_info\u001b[0m did not run successfully.\n",
            "  \u001b[31m│\u001b[0m exit code: \u001b[1;36m1\u001b[0m\n",
            "  \u001b[31m╰─>\u001b[0m See above for output.\n",
            "  \n",
            "  \u001b[1;35mnote\u001b[0m: This error originates from a subprocess, and is likely not a problem with pip.\n",
            "  Preparing metadata (setup.py) ... \u001b[?25l\u001b[?25herror\n",
            "\u001b[1;31merror\u001b[0m: \u001b[1mmetadata-generation-failed\u001b[0m\n",
            "\n",
            "\u001b[31m×\u001b[0m Encountered error while generating package metadata.\n",
            "\u001b[31m╰─>\u001b[0m See above for output.\n",
            "\n",
            "\u001b[1;35mnote\u001b[0m: This is an issue with the package mentioned above, not pip.\n",
            "\u001b[1;36mhint\u001b[0m: See above for details.\n"
          ]
        }
      ]
    },
    {
      "cell_type": "code",
      "source": [
        "from stable_baselines3 import PPO"
      ],
      "metadata": {
        "colab": {
          "base_uri": "https://localhost:8080/",
          "height": 383
        },
        "id": "XagGoFm9J4E8",
        "outputId": "a05ff1cf-3c50-427b-a857-841121a529b7"
      },
      "execution_count": null,
      "outputs": [
        {
          "output_type": "error",
          "ename": "ModuleNotFoundError",
          "evalue": "ignored",
          "traceback": [
            "\u001b[0;31m---------------------------------------------------------------------------\u001b[0m",
            "\u001b[0;31mModuleNotFoundError\u001b[0m                       Traceback (most recent call last)",
            "\u001b[0;32m<ipython-input-20-548950f66a16>\u001b[0m in \u001b[0;36m<cell line: 1>\u001b[0;34m()\u001b[0m\n\u001b[0;32m----> 1\u001b[0;31m \u001b[0;32mfrom\u001b[0m \u001b[0mstable_baselines3\u001b[0m \u001b[0;32mimport\u001b[0m \u001b[0mPPO\u001b[0m\u001b[0;34m\u001b[0m\u001b[0;34m\u001b[0m\u001b[0m\n\u001b[0m",
            "\u001b[0;31mModuleNotFoundError\u001b[0m: No module named 'stable_baselines3'",
            "",
            "\u001b[0;31m---------------------------------------------------------------------------\u001b[0;32m\nNOTE: If your import is failing due to a missing package, you can\nmanually install dependencies using either !pip or !apt.\n\nTo view examples of installing some common dependencies, click the\n\"Open Examples\" button below.\n\u001b[0;31m---------------------------------------------------------------------------\u001b[0m\n"
          ],
          "errorDetails": {
            "actions": [
              {
                "action": "open_url",
                "actionText": "Open Examples",
                "url": "/notebooks/snippets/importing_libraries.ipynb"
              }
            ]
          }
        }
      ]
    },
    {
      "cell_type": "code",
      "source": [
        "from tabnanny import verbose\n",
        "import joblib\n",
        "import numpy as np\n",
        "import gym\n",
        "from gym import spaces\n",
        "import matplotlib.pyplot as plt\n",
        "import glob\n",
        "import pandas as pd\n",
        "from stable_baselines3 import PPO"
      ],
      "metadata": {
        "id": "O9lfPvrL6T_5",
        "colab": {
          "base_uri": "https://localhost:8080/",
          "height": 419
        },
        "outputId": "8f069837-2aa2-4fa0-aa66-e76d3c0820aa"
      },
      "execution_count": null,
      "outputs": [
        {
          "output_type": "error",
          "ename": "ModuleNotFoundError",
          "evalue": "ignored",
          "traceback": [
            "\u001b[0;31m---------------------------------------------------------------------------\u001b[0m",
            "\u001b[0;31mModuleNotFoundError\u001b[0m                       Traceback (most recent call last)",
            "\u001b[0;32m<ipython-input-3-73769735fdc3>\u001b[0m in \u001b[0;36m<cell line: 9>\u001b[0;34m()\u001b[0m\n\u001b[1;32m      7\u001b[0m \u001b[0;32mimport\u001b[0m \u001b[0mglob\u001b[0m\u001b[0;34m\u001b[0m\u001b[0;34m\u001b[0m\u001b[0m\n\u001b[1;32m      8\u001b[0m \u001b[0;32mimport\u001b[0m \u001b[0mpandas\u001b[0m \u001b[0;32mas\u001b[0m \u001b[0mpd\u001b[0m\u001b[0;34m\u001b[0m\u001b[0;34m\u001b[0m\u001b[0m\n\u001b[0;32m----> 9\u001b[0;31m \u001b[0;32mfrom\u001b[0m \u001b[0mstable_baselines3\u001b[0m \u001b[0;32mimport\u001b[0m \u001b[0mPPO\u001b[0m\u001b[0;34m\u001b[0m\u001b[0;34m\u001b[0m\u001b[0m\n\u001b[0m",
            "\u001b[0;31mModuleNotFoundError\u001b[0m: No module named 'stable_baselines3'",
            "",
            "\u001b[0;31m---------------------------------------------------------------------------\u001b[0;32m\nNOTE: If your import is failing due to a missing package, you can\nmanually install dependencies using either !pip or !apt.\n\nTo view examples of installing some common dependencies, click the\n\"Open Examples\" button below.\n\u001b[0;31m---------------------------------------------------------------------------\u001b[0m\n"
          ],
          "errorDetails": {
            "actions": [
              {
                "action": "open_url",
                "actionText": "Open Examples",
                "url": "/notebooks/snippets/importing_libraries.ipynb"
              }
            ]
          }
        }
      ]
    },
    {
      "cell_type": "markdown",
      "source": [
        "## Dummy data"
      ],
      "metadata": {
        "id": "P6dEGcoASHHC"
      }
    },
    {
      "cell_type": "code",
      "source": [
        "dummy = {'SG' : [\"AAPL\"],\n",
        "         'SW' : [\"KMB\"],\n",
        "         'FG' : [\"AMZN\",],\n",
        "         'CY' : [\"NKE\"]}"
      ],
      "metadata": {
        "id": "GGtTdwPcO0CC"
      },
      "execution_count": null,
      "outputs": []
    },
    {
      "cell_type": "code",
      "source": [
        "dummy_dict = {}\n",
        "for k, v in dummy.items():\n",
        "  for tick in v :\n",
        "    t = tick\n",
        "    data, extra_features = tickToDFDate(t)\n",
        "    dummy_dict[tick] = [data, extra_features, k]"
      ],
      "metadata": {
        "colab": {
          "base_uri": "https://localhost:8080/"
        },
        "id": "g5mx0ltcOjg7",
        "outputId": "0521a2ac-d55c-4a51-a264-1940d3a7c0a3"
      },
      "execution_count": null,
      "outputs": [
        {
          "output_type": "stream",
          "name": "stdout",
          "text": [
            "<class 'numpy.float64'>\n",
            "<class 'numpy.float64'>\n",
            "<class 'float'>\n",
            "<class 'numpy.float64'>\n"
          ]
        }
      ]
    },
    {
      "cell_type": "code",
      "source": [
        "dummy_dict[\"AAPL\"]"
      ],
      "metadata": {
        "id": "z_ECthF5PEy0"
      },
      "execution_count": null,
      "outputs": []
    },
    {
      "cell_type": "markdown",
      "source": [
        "## Multi-Stock Environment Set Up"
      ],
      "metadata": {
        "id": "pTgHln9zBbxW"
      }
    },
    {
      "cell_type": "markdown",
      "source": [
        "* dfs — a list of data frames containing the raw historical data, one for each asset\n",
        "* price_df — a data frame containing the historical closing prices of each stock as a column in each\n",
        "\n",
        "* initial_amount — the initial amount invested into the model for training\n",
        "\n",
        "* trade_cost — the cost of each trade, currently set to zero\n",
        "\n",
        "* num_features — the number of features per time interval for each asset\n",
        "\n",
        "* num_stocks — number of assets to be traded\n",
        "\n",
        "* window_size — the number of previous time intervals data to be considered for the next action\n",
        "\n",
        "* frame_bound — the range of values (start_index, end_index)in the price_df index to be used for training/test, start_index must be greater than window_size\n",
        "\n",
        "* scalers — the list of scalers used for scaling the data for each stock, internally defined if not already provided\n",
        "\n",
        "* tech_indicator_list — the list of technical indicators to be utilized for trading, num_features is updated if provided\n",
        "\n",
        "* reward_scaling — scaling the rewards/profits from our trading\n",
        "\n"
      ],
      "metadata": {
        "id": "8mD1TBWPBZYI"
      }
    },
    {
      "cell_type": "code",
      "source": [
        "\n",
        "class MultiStockTradingEnv(gym.Env):\n",
        "\n",
        "    metadata = {\"render.modes\": [\"human\"]}\n",
        "\n",
        "    def __init__(self,dfs,price_df,initial_amount,trade_cost,num_features,num_stocks,window_size,frame_bound,scalers=None,\n",
        "        tech_indicator_list=[],reward_scaling=1e-5,suppresention_rate=0.66,representative=None):\n",
        "\n",
        "        if len(tech_indicator_list)!=0:\n",
        "            num_features = len(tech_indicator_list)\n",
        "        self.dfs = dfs\n",
        "        self.price_df = price_df\n",
        "        self.initial_amount = initial_amount\n",
        "        self.margin = initial_amount\n",
        "        self.portfolio = [0]*num_stocks\n",
        "        self.PortfolioValue = 0\n",
        "        self.reserve = initial_amount\n",
        "        self.trade_cost = trade_cost\n",
        "        self.state_space = num_features\n",
        "        self.assets = num_stocks\n",
        "        self.reward_scaling=reward_scaling\n",
        "        self.tech_indicators = tech_indicator_list\n",
        "        self.window_size = window_size\n",
        "        self.frame_bound = frame_bound\n",
        "\n",
        "        # spaces\n",
        "        self.action_space = spaces.Box(low=-1, high=1, shape=(num_stocks,), dtype=np.float32)\n",
        "        self.observation_space = spaces.Box(low=-np.inf, high=np.inf, shape=(num_stocks,window_size,num_features), dtype=np.float32)\n",
        "\n",
        "        # episode\n",
        "        self._start_tick = self.window_size\n",
        "        self._end_tick = len(self.price_df) - 1\n",
        "        self._done = None\n",
        "        self._current_tick = None\n",
        "        self._last_trade_tick = None\n",
        "        self._position = np.zeros(self.assets)\n",
        "        self._position_history = None\n",
        "        self._total_reward = None\n",
        "        self._total_profit = None\n",
        "        self._first_rendering = None\n",
        "        self.history = None\n",
        "        self.rewards = []\n",
        "        self.pvs = []\n",
        "        if scalers == None:\n",
        "            self.scalers = [None]*self.assets\n",
        "        else:\n",
        "            self.scalers =scalers\n",
        "\n",
        "        self.representative = representative\n",
        "        self.suppression_rate = suppresention_rate\n",
        "\n",
        "    def seed(self, seed=None):\n",
        "        self.np_random, seed = seeding.np_random(seed)\n",
        "        return [seed]\n",
        "\n",
        "    def process_data(self):\n",
        "        signal_features = []\n",
        "        for i in range(self.assets):\n",
        "            df = self.dfs[i]\n",
        "            start = self.frame_bound[0] - self.window_size\n",
        "            end = self.frame_bound[1]\n",
        "            if self.scalers[i]:\n",
        "                current_scaler = self.scalers[i]\n",
        "                signal_features_i = current_scaler.transform(df.loc[:, self.tech_indicators])[start:end]\n",
        "            else:\n",
        "                current_scaler = StandardScaler()\n",
        "                signal_features_i = current_scaler.fit_transform(df.loc[:, self.tech_indicators])[start:end]\n",
        "                self.scalers[i] = current_scaler\n",
        "            signal_features.append(signal_features_i)\n",
        "\n",
        "        self.prices = self.price_df.loc[:, :].to_numpy()[start:end]\n",
        "        if self.representative:\n",
        "            self.representative = self.price_df.loc[:, self.representative].to_numpy()[start:end]\n",
        "        # else:\n",
        "        #     self.representative = self.price_df.loc[:, 'SENSEX'].to_numpy()[start:end]\n",
        "        self.signal_features = np.array(signal_features)\n",
        "        self._end_tick = len(self.prices)-1\n",
        "        return self.prices, self.signal_features\n",
        "\n",
        "    def reset(self):\n",
        "        self._done = False\n",
        "        self._current_tick = self._start_tick\n",
        "        self._end_tick = len(self.prices)-1\n",
        "        self._last_trade_tick = self._current_tick - 1\n",
        "        self._position = np.zeros(self.assets)\n",
        "        self._position_history = (self.window_size * [None]) + [self._position]\n",
        "        self.margin = self.initial_amount\n",
        "        self.portfolio = [0]*self.assets\n",
        "        self.PortfolioValue = 0\n",
        "        self.reserve = self.initial_amount\n",
        "        self._total_reward = 0.\n",
        "        self._total_profit = 1.  # unit\n",
        "        self._first_rendering = True\n",
        "        self.history = {}\n",
        "        return self._get_observation()\n",
        "\n",
        "    def _update_profit(self, ):\n",
        "        self._total_profit = (self.PortfolioValue+self.reserve)/self.initial_amount\n",
        "\n",
        "\n",
        "    def step(self, actions):\n",
        "        self._done = False\n",
        "        self._current_tick += 1\n",
        "\n",
        "        if self._current_tick == self._end_tick:\n",
        "            self._done = True\n",
        "\n",
        "        #Get the current prices\n",
        "        current_prices = self.prices[self._current_tick]\n",
        "\n",
        "        #handling cases where current price is na and avoiding buying infinite 0 cost stocks\n",
        "        current_prices[np.isnan(current_prices)] = 0\n",
        "\n",
        "        current_prices_for_division = current_prices\n",
        "\n",
        "        current_prices_for_division[current_prices_for_division == 0] = 1e9\n",
        "\n",
        "        #the absolute value distribution of next step portfolio\n",
        "        abs_portfolio_dist = abs(actions)\n",
        "\n",
        "        # At any point in time we only trade for 33% of the stocks the model is most confident about\n",
        "        # the scores for the rest are suppressed\n",
        "\n",
        "        N = int(np.round(abs_portfolio_dist.size*self.suppression_rate))\n",
        "\n",
        "        abs_portfolio_dist[np.argpartition(abs_portfolio_dist,kth=N)[:N]] = 0\n",
        "\n",
        "        self.margin = self.reserve + sum(self.portfolio*current_prices)\n",
        "\n",
        "        #Normalize the portfolio positions for next step\n",
        "        norm_margin_pos = (abs_portfolio_dist/sum(abs_portfolio_dist))*self.margin\n",
        "\n",
        "        #Calulate the money in the next positions\n",
        "        next_positions = np.sign(actions)*norm_margin_pos\n",
        "\n",
        "        #Change in money value of the positions\n",
        "        change_in_positions = next_positions - self._position\n",
        "\n",
        "        #actions to take in the market\n",
        "        actions_in_market = np.divide(change_in_positions,current_prices_for_division).astype(int)\n",
        "        new_portfolio = actions_in_market + self.portfolio\n",
        "        new_pv = sum(new_portfolio*current_prices)\n",
        "        new_reserve = self.margin - new_pv\n",
        "        profit = (new_pv + new_reserve) - (self.PortfolioValue + self.reserve)\n",
        "\n",
        "        # calculate the cost of each action in market\n",
        "        cost = self.trade_cost*sum(abs(np.sign(actions_in_market)))\n",
        "        self._position = next_positions\n",
        "        self.portfolio = new_portfolio\n",
        "        self.PortfolioValue = new_pv\n",
        "        self.reserve = new_reserve - cost\n",
        "\n",
        "        # Calculate the total step reward - profit made this step\n",
        "        step_reward = profit - cost\n",
        "        self._total_reward += self.reward_scaling*step_reward\n",
        "        self.rewards.append(self._total_reward)\n",
        "        self.pvs.append(new_pv)\n",
        "        self._update_profit()\n",
        "\n",
        "        self._position = next_positions\n",
        "        self._position_history.append(self._position)\n",
        "        observation = self._get_observation()\n",
        "        info = dict(\n",
        "            total_reward = self._total_reward,\n",
        "            total_profit = self._total_profit,\n",
        "        )\n",
        "        self._update_history(info)\n",
        "        if self.margin < 0:\n",
        "            self._done = True\n",
        "\n",
        "        return observation, step_reward, self._done, info\n",
        "\n",
        "    def _get_observation(self):\n",
        "        return np.nan_to_num(self.signal_features[:,(self._current_tick-self.window_size+1):self._current_tick+1,:])\n",
        "\n",
        "    def _update_history(self, info):\n",
        "        if not self.history:\n",
        "            self.history = {key: [] for key in info.keys()}\n",
        "\n",
        "        for key, value in info.items():\n",
        "            self.history[key].append(value)\n",
        "\n",
        "    def render(self, mode='human'):\n",
        "\n",
        "        if self._first_rendering:\n",
        "            self._first_rendering = False\n",
        "            plt.cla()\n",
        "            plt.plot(self.pvs)\n",
        "        plt.suptitle(\n",
        "            \"Total Reward: %.6f\" % self._total_reward + ' ~ ' +\n",
        "            \"Total Profit: %.6f\" % self._total_profit\n",
        "        )\n",
        "        plt.pause(0.01)\n",
        "\n",
        "    def render_all(self, mode='human'):\n",
        "        plt.plot(self.pvs)\n",
        "        plt.suptitle(\n",
        "            \"Total Reward: %.6f\" % self._total_reward + ' ~ ' +\n",
        "            \"Total Profit: %.6f\" % self._total_profit\n",
        "        )\n",
        "\n",
        "    def close(self):\n",
        "        plt.close()\n",
        "\n",
        "    def save_rendering(self, filepath):\n",
        "        plt.savefig(filepath)\n",
        "\n",
        "    def pause_rendering(self):\n",
        "        plt.show()\n",
        "\n",
        "    def _process_data(self):\n",
        "        raise NotImplementedError\n",
        "    def _calculate_reward(self, action):\n",
        "        raise NotImplementedError\n",
        "    def max_possible_profit(self):  # trade fees are ignored\n",
        "        raise NotImplementedError"
      ],
      "metadata": {
        "id": "k3iu60Sg8nIu"
      },
      "execution_count": null,
      "outputs": []
    },
    {
      "cell_type": "markdown",
      "source": [
        "Creating the multistock environment"
      ],
      "metadata": {
        "id": "-ssaVX97Quhs"
      }
    },
    {
      "cell_type": "code",
      "source": [
        "dummy_dict[\"AAPL\"][0].head()"
      ],
      "metadata": {
        "colab": {
          "base_uri": "https://localhost:8080/",
          "height": 262
        },
        "id": "tPAy25h-Uax5",
        "outputId": "ef3c3e14-7134-40e9-fe96-797043a26432"
      },
      "execution_count": null,
      "outputs": [
        {
          "output_type": "stream",
          "name": "stderr",
          "text": [
            "/usr/local/lib/python3.10/dist-packages/ipykernel/ipkernel.py:283: DeprecationWarning: `should_run_async` will not call `transform_cell` automatically in the future. Please pass the result to `transformed_cell` argument and any exception that happen during thetransform in `preprocessing_exc_tuple` in IPython 7.17 and above.\n",
            "  and should_run_async(code)\n"
          ]
        },
        {
          "output_type": "execute_result",
          "data": {
            "text/plain": [
              "                       Date       Open       High        Low      Close  \\\n",
              "0 2016-05-02 00:00:00-04:00  21.590693  21.615967  21.229968  21.514872   \n",
              "1 2016-05-03 00:00:00-04:00  21.643531  21.997364  21.524056  21.868698   \n",
              "2 2016-05-04 00:00:00-04:00  21.873295  22.034129  21.556225  21.641237   \n",
              "3 2016-05-05 00:00:00-04:00  21.729079  21.745260  21.423947  21.553396   \n",
              "4 2016-05-06 00:00:00-04:00  21.583446  21.601937  21.232081  21.433191   \n",
              "\n",
              "      Volume                  datetime  \n",
              "0  192640400 2016-05-02 00:00:00-04:00  \n",
              "1  227325200 2016-05-03 00:00:00-04:00  \n",
              "2  164102000 2016-05-04 00:00:00-04:00  \n",
              "3  143562000 2016-05-05 00:00:00-04:00  \n",
              "4  174799600 2016-05-06 00:00:00-04:00  "
            ],
            "text/html": [
              "\n",
              "  <div id=\"df-528eb2fd-bfd7-4ada-9928-5f64c030114e\">\n",
              "    <div class=\"colab-df-container\">\n",
              "      <div>\n",
              "<style scoped>\n",
              "    .dataframe tbody tr th:only-of-type {\n",
              "        vertical-align: middle;\n",
              "    }\n",
              "\n",
              "    .dataframe tbody tr th {\n",
              "        vertical-align: top;\n",
              "    }\n",
              "\n",
              "    .dataframe thead th {\n",
              "        text-align: right;\n",
              "    }\n",
              "</style>\n",
              "<table border=\"1\" class=\"dataframe\">\n",
              "  <thead>\n",
              "    <tr style=\"text-align: right;\">\n",
              "      <th></th>\n",
              "      <th>Date</th>\n",
              "      <th>Open</th>\n",
              "      <th>High</th>\n",
              "      <th>Low</th>\n",
              "      <th>Close</th>\n",
              "      <th>Volume</th>\n",
              "      <th>datetime</th>\n",
              "    </tr>\n",
              "  </thead>\n",
              "  <tbody>\n",
              "    <tr>\n",
              "      <th>0</th>\n",
              "      <td>2016-05-02 00:00:00-04:00</td>\n",
              "      <td>21.590693</td>\n",
              "      <td>21.615967</td>\n",
              "      <td>21.229968</td>\n",
              "      <td>21.514872</td>\n",
              "      <td>192640400</td>\n",
              "      <td>2016-05-02 00:00:00-04:00</td>\n",
              "    </tr>\n",
              "    <tr>\n",
              "      <th>1</th>\n",
              "      <td>2016-05-03 00:00:00-04:00</td>\n",
              "      <td>21.643531</td>\n",
              "      <td>21.997364</td>\n",
              "      <td>21.524056</td>\n",
              "      <td>21.868698</td>\n",
              "      <td>227325200</td>\n",
              "      <td>2016-05-03 00:00:00-04:00</td>\n",
              "    </tr>\n",
              "    <tr>\n",
              "      <th>2</th>\n",
              "      <td>2016-05-04 00:00:00-04:00</td>\n",
              "      <td>21.873295</td>\n",
              "      <td>22.034129</td>\n",
              "      <td>21.556225</td>\n",
              "      <td>21.641237</td>\n",
              "      <td>164102000</td>\n",
              "      <td>2016-05-04 00:00:00-04:00</td>\n",
              "    </tr>\n",
              "    <tr>\n",
              "      <th>3</th>\n",
              "      <td>2016-05-05 00:00:00-04:00</td>\n",
              "      <td>21.729079</td>\n",
              "      <td>21.745260</td>\n",
              "      <td>21.423947</td>\n",
              "      <td>21.553396</td>\n",
              "      <td>143562000</td>\n",
              "      <td>2016-05-05 00:00:00-04:00</td>\n",
              "    </tr>\n",
              "    <tr>\n",
              "      <th>4</th>\n",
              "      <td>2016-05-06 00:00:00-04:00</td>\n",
              "      <td>21.583446</td>\n",
              "      <td>21.601937</td>\n",
              "      <td>21.232081</td>\n",
              "      <td>21.433191</td>\n",
              "      <td>174799600</td>\n",
              "      <td>2016-05-06 00:00:00-04:00</td>\n",
              "    </tr>\n",
              "  </tbody>\n",
              "</table>\n",
              "</div>\n",
              "      <button class=\"colab-df-convert\" onclick=\"convertToInteractive('df-528eb2fd-bfd7-4ada-9928-5f64c030114e')\"\n",
              "              title=\"Convert this dataframe to an interactive table.\"\n",
              "              style=\"display:none;\">\n",
              "        \n",
              "  <svg xmlns=\"http://www.w3.org/2000/svg\" height=\"24px\"viewBox=\"0 0 24 24\"\n",
              "       width=\"24px\">\n",
              "    <path d=\"M0 0h24v24H0V0z\" fill=\"none\"/>\n",
              "    <path d=\"M18.56 5.44l.94 2.06.94-2.06 2.06-.94-2.06-.94-.94-2.06-.94 2.06-2.06.94zm-11 1L8.5 8.5l.94-2.06 2.06-.94-2.06-.94L8.5 2.5l-.94 2.06-2.06.94zm10 10l.94 2.06.94-2.06 2.06-.94-2.06-.94-.94-2.06-.94 2.06-2.06.94z\"/><path d=\"M17.41 7.96l-1.37-1.37c-.4-.4-.92-.59-1.43-.59-.52 0-1.04.2-1.43.59L10.3 9.45l-7.72 7.72c-.78.78-.78 2.05 0 2.83L4 21.41c.39.39.9.59 1.41.59.51 0 1.02-.2 1.41-.59l7.78-7.78 2.81-2.81c.8-.78.8-2.07 0-2.86zM5.41 20L4 18.59l7.72-7.72 1.47 1.35L5.41 20z\"/>\n",
              "  </svg>\n",
              "      </button>\n",
              "      \n",
              "  <style>\n",
              "    .colab-df-container {\n",
              "      display:flex;\n",
              "      flex-wrap:wrap;\n",
              "      gap: 12px;\n",
              "    }\n",
              "\n",
              "    .colab-df-convert {\n",
              "      background-color: #E8F0FE;\n",
              "      border: none;\n",
              "      border-radius: 50%;\n",
              "      cursor: pointer;\n",
              "      display: none;\n",
              "      fill: #1967D2;\n",
              "      height: 32px;\n",
              "      padding: 0 0 0 0;\n",
              "      width: 32px;\n",
              "    }\n",
              "\n",
              "    .colab-df-convert:hover {\n",
              "      background-color: #E2EBFA;\n",
              "      box-shadow: 0px 1px 2px rgba(60, 64, 67, 0.3), 0px 1px 3px 1px rgba(60, 64, 67, 0.15);\n",
              "      fill: #174EA6;\n",
              "    }\n",
              "\n",
              "    [theme=dark] .colab-df-convert {\n",
              "      background-color: #3B4455;\n",
              "      fill: #D2E3FC;\n",
              "    }\n",
              "\n",
              "    [theme=dark] .colab-df-convert:hover {\n",
              "      background-color: #434B5C;\n",
              "      box-shadow: 0px 1px 3px 1px rgba(0, 0, 0, 0.15);\n",
              "      filter: drop-shadow(0px 1px 2px rgba(0, 0, 0, 0.3));\n",
              "      fill: #FFFFFF;\n",
              "    }\n",
              "  </style>\n",
              "\n",
              "      <script>\n",
              "        const buttonEl =\n",
              "          document.querySelector('#df-528eb2fd-bfd7-4ada-9928-5f64c030114e button.colab-df-convert');\n",
              "        buttonEl.style.display =\n",
              "          google.colab.kernel.accessAllowed ? 'block' : 'none';\n",
              "\n",
              "        async function convertToInteractive(key) {\n",
              "          const element = document.querySelector('#df-528eb2fd-bfd7-4ada-9928-5f64c030114e');\n",
              "          const dataTable =\n",
              "            await google.colab.kernel.invokeFunction('convertToInteractive',\n",
              "                                                     [key], {});\n",
              "          if (!dataTable) return;\n",
              "\n",
              "          const docLinkHtml = 'Like what you see? Visit the ' +\n",
              "            '<a target=\"_blank\" href=https://colab.research.google.com/notebooks/data_table.ipynb>data table notebook</a>'\n",
              "            + ' to learn more about interactive tables.';\n",
              "          element.innerHTML = '';\n",
              "          dataTable['output_type'] = 'display_data';\n",
              "          await google.colab.output.renderOutput(dataTable, element);\n",
              "          const docLink = document.createElement('div');\n",
              "          docLink.innerHTML = docLinkHtml;\n",
              "          element.appendChild(docLink);\n",
              "        }\n",
              "      </script>\n",
              "    </div>\n",
              "  </div>\n",
              "  "
            ]
          },
          "metadata": {},
          "execution_count": 117
        }
      ]
    },
    {
      "cell_type": "code",
      "source": [
        "indicators = ['Open', 'High', 'Low', 'Close', 'Volume' ]\n",
        "\n",
        "dfs = pd.DataFrame()\n",
        "\n",
        "num_assets = 0\n",
        "\n",
        "names = []\n",
        "\n",
        "for k, v in dummy.items():\n",
        "  for tick in v :\n",
        "    df, extra_features, k = dummy_dict[tick]\n",
        "    df['datetime'] = pd.to_datetime(df['Date'])\n",
        "    name = k\n",
        "    names.append(name)\n",
        "    # Adding the Time of Day and Day of Week features\n",
        "    df['ToD'] = df['datetime'].dt.hour + df['datetime'].dt.minute/60\n",
        "    df['DoW'] = df['datetime'].dt.weekday/6\n",
        "    df.sort_values(['datetime'], inplace=True)\n",
        "    df = df.set_index(pd.DatetimeIndex(df['datetime']))\n",
        "    df.drop(['datetime'], axis=1, inplace=True)\n",
        "    df.replace([np.inf, -np.inf], 0, inplace=True)\n",
        "    dfs = pd.concat([dfs,df], axis=1)\n",
        "    num_assets += 1"
      ],
      "metadata": {
        "colab": {
          "base_uri": "https://localhost:8080/"
        },
        "id": "py1h1c-dSgHq",
        "outputId": "7db7b384-bb5c-47ad-e14c-b99b0864e5f4"
      },
      "execution_count": null,
      "outputs": [
        {
          "output_type": "stream",
          "name": "stderr",
          "text": [
            "/usr/local/lib/python3.10/dist-packages/ipykernel/ipkernel.py:283: DeprecationWarning: `should_run_async` will not call `transform_cell` automatically in the future. Please pass the result to `transformed_cell` argument and any exception that happen during thetransform in `preprocessing_exc_tuple` in IPython 7.17 and above.\n",
            "  and should_run_async(code)\n"
          ]
        }
      ]
    },
    {
      "cell_type": "code",
      "source": [
        "dfs.head()"
      ],
      "metadata": {
        "colab": {
          "base_uri": "https://localhost:8080/",
          "height": 627
        },
        "id": "30WjwxksV7e5",
        "outputId": "a75b06d7-d7c1-4749-b573-704e567503cf"
      },
      "execution_count": null,
      "outputs": [
        {
          "output_type": "stream",
          "name": "stderr",
          "text": [
            "/usr/local/lib/python3.10/dist-packages/ipykernel/ipkernel.py:283: DeprecationWarning: `should_run_async` will not call `transform_cell` automatically in the future. Please pass the result to `transformed_cell` argument and any exception that happen during thetransform in `preprocessing_exc_tuple` in IPython 7.17 and above.\n",
            "  and should_run_async(code)\n"
          ]
        },
        {
          "output_type": "execute_result",
          "data": {
            "text/plain": [
              "                                               Date       Open       High  \\\n",
              "datetime                                                                    \n",
              "2016-05-02 00:00:00-04:00 2016-05-02 00:00:00-04:00  21.590693  21.615967   \n",
              "2016-05-03 00:00:00-04:00 2016-05-03 00:00:00-04:00  21.643531  21.997364   \n",
              "2016-05-04 00:00:00-04:00 2016-05-04 00:00:00-04:00  21.873295  22.034129   \n",
              "2016-05-05 00:00:00-04:00 2016-05-05 00:00:00-04:00  21.729079  21.745260   \n",
              "2016-05-06 00:00:00-04:00 2016-05-06 00:00:00-04:00  21.583446  21.601937   \n",
              "\n",
              "                                 Low      Close     Volume  ToD       DoW  \\\n",
              "datetime                                                                    \n",
              "2016-05-02 00:00:00-04:00  21.229968  21.514872  192640400  0.0  0.000000   \n",
              "2016-05-03 00:00:00-04:00  21.524056  21.868698  227325200  0.0  0.166667   \n",
              "2016-05-04 00:00:00-04:00  21.556225  21.641237  164102000  0.0  0.333333   \n",
              "2016-05-05 00:00:00-04:00  21.423947  21.553396  143562000  0.0  0.500000   \n",
              "2016-05-06 00:00:00-04:00  21.232081  21.433191  174799600  0.0  0.666667   \n",
              "\n",
              "                                               Date        Open  ...  ToD  \\\n",
              "datetime                                                         ...        \n",
              "2016-05-02 00:00:00-04:00 2016-05-02 00:00:00-04:00   99.262481  ...  0.0   \n",
              "2016-05-03 00:00:00-04:00 2016-05-03 00:00:00-04:00   99.198902  ...  0.0   \n",
              "2016-05-04 00:00:00-04:00 2016-05-04 00:00:00-04:00  100.112997  ...  0.0   \n",
              "2016-05-05 00:00:00-04:00 2016-05-05 00:00:00-04:00  101.662976  ...  0.0   \n",
              "2016-05-06 00:00:00-04:00 2016-05-06 00:00:00-04:00  101.345045  ...  0.0   \n",
              "\n",
              "                                DoW                      Date       Open  \\\n",
              "datetime                                                                   \n",
              "2016-05-02 00:00:00-04:00  0.000000 2016-05-02 00:00:00-04:00  54.829319   \n",
              "2016-05-03 00:00:00-04:00  0.166667 2016-05-03 00:00:00-04:00  54.968500   \n",
              "2016-05-04 00:00:00-04:00  0.333333 2016-05-04 00:00:00-04:00  54.959232   \n",
              "2016-05-05 00:00:00-04:00  0.500000 2016-05-05 00:00:00-04:00  54.690131   \n",
              "2016-05-06 00:00:00-04:00  0.666667 2016-05-06 00:00:00-04:00  53.966375   \n",
              "\n",
              "                                High        Low      Close   Volume  ToD  \\\n",
              "datetime                                                                   \n",
              "2016-05-02 00:00:00-04:00  55.441729  54.736531  55.293266  8647800  0.0   \n",
              "2016-05-03 00:00:00-04:00  55.534513  54.773640  55.228310  8061300  0.0   \n",
              "2016-05-04 00:00:00-04:00  55.636595  54.578795  54.847885  8062800  0.0   \n",
              "2016-05-05 00:00:00-04:00  54.727247  53.817911  53.994209  7846000  0.0   \n",
              "2016-05-06 00:00:00-04:00  54.226185  53.242618  54.216908  7308000  0.0   \n",
              "\n",
              "                                DoW  \n",
              "datetime                             \n",
              "2016-05-02 00:00:00-04:00  0.000000  \n",
              "2016-05-03 00:00:00-04:00  0.166667  \n",
              "2016-05-04 00:00:00-04:00  0.333333  \n",
              "2016-05-05 00:00:00-04:00  0.500000  \n",
              "2016-05-06 00:00:00-04:00  0.666667  \n",
              "\n",
              "[5 rows x 32 columns]"
            ],
            "text/html": [
              "\n",
              "  <div id=\"df-eeb2afac-c304-4a6e-8756-3d4556d97008\">\n",
              "    <div class=\"colab-df-container\">\n",
              "      <div>\n",
              "<style scoped>\n",
              "    .dataframe tbody tr th:only-of-type {\n",
              "        vertical-align: middle;\n",
              "    }\n",
              "\n",
              "    .dataframe tbody tr th {\n",
              "        vertical-align: top;\n",
              "    }\n",
              "\n",
              "    .dataframe thead th {\n",
              "        text-align: right;\n",
              "    }\n",
              "</style>\n",
              "<table border=\"1\" class=\"dataframe\">\n",
              "  <thead>\n",
              "    <tr style=\"text-align: right;\">\n",
              "      <th></th>\n",
              "      <th>Date</th>\n",
              "      <th>Open</th>\n",
              "      <th>High</th>\n",
              "      <th>Low</th>\n",
              "      <th>Close</th>\n",
              "      <th>Volume</th>\n",
              "      <th>ToD</th>\n",
              "      <th>DoW</th>\n",
              "      <th>Date</th>\n",
              "      <th>Open</th>\n",
              "      <th>...</th>\n",
              "      <th>ToD</th>\n",
              "      <th>DoW</th>\n",
              "      <th>Date</th>\n",
              "      <th>Open</th>\n",
              "      <th>High</th>\n",
              "      <th>Low</th>\n",
              "      <th>Close</th>\n",
              "      <th>Volume</th>\n",
              "      <th>ToD</th>\n",
              "      <th>DoW</th>\n",
              "    </tr>\n",
              "    <tr>\n",
              "      <th>datetime</th>\n",
              "      <th></th>\n",
              "      <th></th>\n",
              "      <th></th>\n",
              "      <th></th>\n",
              "      <th></th>\n",
              "      <th></th>\n",
              "      <th></th>\n",
              "      <th></th>\n",
              "      <th></th>\n",
              "      <th></th>\n",
              "      <th></th>\n",
              "      <th></th>\n",
              "      <th></th>\n",
              "      <th></th>\n",
              "      <th></th>\n",
              "      <th></th>\n",
              "      <th></th>\n",
              "      <th></th>\n",
              "      <th></th>\n",
              "      <th></th>\n",
              "      <th></th>\n",
              "    </tr>\n",
              "  </thead>\n",
              "  <tbody>\n",
              "    <tr>\n",
              "      <th>2016-05-02 00:00:00-04:00</th>\n",
              "      <td>2016-05-02 00:00:00-04:00</td>\n",
              "      <td>21.590693</td>\n",
              "      <td>21.615967</td>\n",
              "      <td>21.229968</td>\n",
              "      <td>21.514872</td>\n",
              "      <td>192640400</td>\n",
              "      <td>0.0</td>\n",
              "      <td>0.000000</td>\n",
              "      <td>2016-05-02 00:00:00-04:00</td>\n",
              "      <td>99.262481</td>\n",
              "      <td>...</td>\n",
              "      <td>0.0</td>\n",
              "      <td>0.000000</td>\n",
              "      <td>2016-05-02 00:00:00-04:00</td>\n",
              "      <td>54.829319</td>\n",
              "      <td>55.441729</td>\n",
              "      <td>54.736531</td>\n",
              "      <td>55.293266</td>\n",
              "      <td>8647800</td>\n",
              "      <td>0.0</td>\n",
              "      <td>0.000000</td>\n",
              "    </tr>\n",
              "    <tr>\n",
              "      <th>2016-05-03 00:00:00-04:00</th>\n",
              "      <td>2016-05-03 00:00:00-04:00</td>\n",
              "      <td>21.643531</td>\n",
              "      <td>21.997364</td>\n",
              "      <td>21.524056</td>\n",
              "      <td>21.868698</td>\n",
              "      <td>227325200</td>\n",
              "      <td>0.0</td>\n",
              "      <td>0.166667</td>\n",
              "      <td>2016-05-03 00:00:00-04:00</td>\n",
              "      <td>99.198902</td>\n",
              "      <td>...</td>\n",
              "      <td>0.0</td>\n",
              "      <td>0.166667</td>\n",
              "      <td>2016-05-03 00:00:00-04:00</td>\n",
              "      <td>54.968500</td>\n",
              "      <td>55.534513</td>\n",
              "      <td>54.773640</td>\n",
              "      <td>55.228310</td>\n",
              "      <td>8061300</td>\n",
              "      <td>0.0</td>\n",
              "      <td>0.166667</td>\n",
              "    </tr>\n",
              "    <tr>\n",
              "      <th>2016-05-04 00:00:00-04:00</th>\n",
              "      <td>2016-05-04 00:00:00-04:00</td>\n",
              "      <td>21.873295</td>\n",
              "      <td>22.034129</td>\n",
              "      <td>21.556225</td>\n",
              "      <td>21.641237</td>\n",
              "      <td>164102000</td>\n",
              "      <td>0.0</td>\n",
              "      <td>0.333333</td>\n",
              "      <td>2016-05-04 00:00:00-04:00</td>\n",
              "      <td>100.112997</td>\n",
              "      <td>...</td>\n",
              "      <td>0.0</td>\n",
              "      <td>0.333333</td>\n",
              "      <td>2016-05-04 00:00:00-04:00</td>\n",
              "      <td>54.959232</td>\n",
              "      <td>55.636595</td>\n",
              "      <td>54.578795</td>\n",
              "      <td>54.847885</td>\n",
              "      <td>8062800</td>\n",
              "      <td>0.0</td>\n",
              "      <td>0.333333</td>\n",
              "    </tr>\n",
              "    <tr>\n",
              "      <th>2016-05-05 00:00:00-04:00</th>\n",
              "      <td>2016-05-05 00:00:00-04:00</td>\n",
              "      <td>21.729079</td>\n",
              "      <td>21.745260</td>\n",
              "      <td>21.423947</td>\n",
              "      <td>21.553396</td>\n",
              "      <td>143562000</td>\n",
              "      <td>0.0</td>\n",
              "      <td>0.500000</td>\n",
              "      <td>2016-05-05 00:00:00-04:00</td>\n",
              "      <td>101.662976</td>\n",
              "      <td>...</td>\n",
              "      <td>0.0</td>\n",
              "      <td>0.500000</td>\n",
              "      <td>2016-05-05 00:00:00-04:00</td>\n",
              "      <td>54.690131</td>\n",
              "      <td>54.727247</td>\n",
              "      <td>53.817911</td>\n",
              "      <td>53.994209</td>\n",
              "      <td>7846000</td>\n",
              "      <td>0.0</td>\n",
              "      <td>0.500000</td>\n",
              "    </tr>\n",
              "    <tr>\n",
              "      <th>2016-05-06 00:00:00-04:00</th>\n",
              "      <td>2016-05-06 00:00:00-04:00</td>\n",
              "      <td>21.583446</td>\n",
              "      <td>21.601937</td>\n",
              "      <td>21.232081</td>\n",
              "      <td>21.433191</td>\n",
              "      <td>174799600</td>\n",
              "      <td>0.0</td>\n",
              "      <td>0.666667</td>\n",
              "      <td>2016-05-06 00:00:00-04:00</td>\n",
              "      <td>101.345045</td>\n",
              "      <td>...</td>\n",
              "      <td>0.0</td>\n",
              "      <td>0.666667</td>\n",
              "      <td>2016-05-06 00:00:00-04:00</td>\n",
              "      <td>53.966375</td>\n",
              "      <td>54.226185</td>\n",
              "      <td>53.242618</td>\n",
              "      <td>54.216908</td>\n",
              "      <td>7308000</td>\n",
              "      <td>0.0</td>\n",
              "      <td>0.666667</td>\n",
              "    </tr>\n",
              "  </tbody>\n",
              "</table>\n",
              "<p>5 rows × 32 columns</p>\n",
              "</div>\n",
              "      <button class=\"colab-df-convert\" onclick=\"convertToInteractive('df-eeb2afac-c304-4a6e-8756-3d4556d97008')\"\n",
              "              title=\"Convert this dataframe to an interactive table.\"\n",
              "              style=\"display:none;\">\n",
              "        \n",
              "  <svg xmlns=\"http://www.w3.org/2000/svg\" height=\"24px\"viewBox=\"0 0 24 24\"\n",
              "       width=\"24px\">\n",
              "    <path d=\"M0 0h24v24H0V0z\" fill=\"none\"/>\n",
              "    <path d=\"M18.56 5.44l.94 2.06.94-2.06 2.06-.94-2.06-.94-.94-2.06-.94 2.06-2.06.94zm-11 1L8.5 8.5l.94-2.06 2.06-.94-2.06-.94L8.5 2.5l-.94 2.06-2.06.94zm10 10l.94 2.06.94-2.06 2.06-.94-2.06-.94-.94-2.06-.94 2.06-2.06.94z\"/><path d=\"M17.41 7.96l-1.37-1.37c-.4-.4-.92-.59-1.43-.59-.52 0-1.04.2-1.43.59L10.3 9.45l-7.72 7.72c-.78.78-.78 2.05 0 2.83L4 21.41c.39.39.9.59 1.41.59.51 0 1.02-.2 1.41-.59l7.78-7.78 2.81-2.81c.8-.78.8-2.07 0-2.86zM5.41 20L4 18.59l7.72-7.72 1.47 1.35L5.41 20z\"/>\n",
              "  </svg>\n",
              "      </button>\n",
              "      \n",
              "  <style>\n",
              "    .colab-df-container {\n",
              "      display:flex;\n",
              "      flex-wrap:wrap;\n",
              "      gap: 12px;\n",
              "    }\n",
              "\n",
              "    .colab-df-convert {\n",
              "      background-color: #E8F0FE;\n",
              "      border: none;\n",
              "      border-radius: 50%;\n",
              "      cursor: pointer;\n",
              "      display: none;\n",
              "      fill: #1967D2;\n",
              "      height: 32px;\n",
              "      padding: 0 0 0 0;\n",
              "      width: 32px;\n",
              "    }\n",
              "\n",
              "    .colab-df-convert:hover {\n",
              "      background-color: #E2EBFA;\n",
              "      box-shadow: 0px 1px 2px rgba(60, 64, 67, 0.3), 0px 1px 3px 1px rgba(60, 64, 67, 0.15);\n",
              "      fill: #174EA6;\n",
              "    }\n",
              "\n",
              "    [theme=dark] .colab-df-convert {\n",
              "      background-color: #3B4455;\n",
              "      fill: #D2E3FC;\n",
              "    }\n",
              "\n",
              "    [theme=dark] .colab-df-convert:hover {\n",
              "      background-color: #434B5C;\n",
              "      box-shadow: 0px 1px 3px 1px rgba(0, 0, 0, 0.15);\n",
              "      filter: drop-shadow(0px 1px 2px rgba(0, 0, 0, 0.3));\n",
              "      fill: #FFFFFF;\n",
              "    }\n",
              "  </style>\n",
              "\n",
              "      <script>\n",
              "        const buttonEl =\n",
              "          document.querySelector('#df-eeb2afac-c304-4a6e-8756-3d4556d97008 button.colab-df-convert');\n",
              "        buttonEl.style.display =\n",
              "          google.colab.kernel.accessAllowed ? 'block' : 'none';\n",
              "\n",
              "        async function convertToInteractive(key) {\n",
              "          const element = document.querySelector('#df-eeb2afac-c304-4a6e-8756-3d4556d97008');\n",
              "          const dataTable =\n",
              "            await google.colab.kernel.invokeFunction('convertToInteractive',\n",
              "                                                     [key], {});\n",
              "          if (!dataTable) return;\n",
              "\n",
              "          const docLinkHtml = 'Like what you see? Visit the ' +\n",
              "            '<a target=\"_blank\" href=https://colab.research.google.com/notebooks/data_table.ipynb>data table notebook</a>'\n",
              "            + ' to learn more about interactive tables.';\n",
              "          element.innerHTML = '';\n",
              "          dataTable['output_type'] = 'display_data';\n",
              "          await google.colab.output.renderOutput(dataTable, element);\n",
              "          const docLink = document.createElement('div');\n",
              "          docLink.innerHTML = docLinkHtml;\n",
              "          element.appendChild(docLink);\n",
              "        }\n",
              "      </script>\n",
              "    </div>\n",
              "  </div>\n",
              "  "
            ]
          },
          "metadata": {},
          "execution_count": 128
        }
      ]
    },
    {
      "cell_type": "code",
      "source": [
        "dfs.interpolate(method='pad', limit_direction='forward', inplace=True)\n",
        "\n",
        "print(dfs.columns)\n",
        "\n",
        "cols_per_asset = int(len(dfs.columns)/num_assets)\n",
        "\n",
        "df_list = []\n",
        "price_df = pd.DataFrame()\n",
        "\n",
        "for i in range(num_assets):\n",
        "    df = dfs.iloc[:,i*cols_per_asset:i*cols_per_asset+cols_per_asset]\n",
        "    #print(df.columns)\n",
        "    df.drop(['Date'], axis=1, inplace=True)\n",
        "    price_df[names[i]] = df['Close']\n",
        "    df_list.append(df)\n",
        "\n",
        "cols_per_asset -= 1"
      ],
      "metadata": {
        "colab": {
          "base_uri": "https://localhost:8080/"
        },
        "id": "9nAkErwJQz7K",
        "outputId": "f47d6c4e-05b6-46c5-c96c-d22b1816ff94"
      },
      "execution_count": null,
      "outputs": [
        {
          "output_type": "stream",
          "name": "stdout",
          "text": [
            "Index(['Date', 'Open', 'High', 'Low', 'Close', 'Volume', 'ToD', 'DoW', 'Date',\n",
            "       'Open', 'High', 'Low', 'Close', 'Volume', 'ToD', 'DoW', 'Date', 'Open',\n",
            "       'High', 'Low', 'Close', 'Volume', 'ToD', 'DoW', 'Date', 'Open', 'High',\n",
            "       'Low', 'Close', 'Volume', 'ToD', 'DoW'],\n",
            "      dtype='object')\n"
          ]
        }
      ]
    },
    {
      "cell_type": "code",
      "source": [
        "len(df_list)"
      ],
      "metadata": {
        "colab": {
          "base_uri": "https://localhost:8080/"
        },
        "id": "LL_JNNXmW7cz",
        "outputId": "bffedb0f-f012-4e4c-c652-6483202159cf"
      },
      "execution_count": null,
      "outputs": [
        {
          "output_type": "execute_result",
          "data": {
            "text/plain": [
              "4"
            ]
          },
          "metadata": {},
          "execution_count": 136
        }
      ]
    },
    {
      "cell_type": "code",
      "source": [
        "#def __init__(self, dfs, price_df, initial_amount, trade_cost, num_features, num_stocks, window_size, frame_bound, scalers=None, tech_indicator_list=[], reward_scaling=1e-5):"
      ],
      "metadata": {
        "id": "Nvq4kqm0Ytg8"
      },
      "execution_count": null,
      "outputs": []
    },
    {
      "cell_type": "markdown",
      "source": [
        "## Initialising the instance of env"
      ],
      "metadata": {
        "id": "44p1327ZcFEa"
      }
    },
    {
      "cell_type": "code",
      "source": [
        "env = MultiStockTradingEnv(df_list,\n",
        "        price_df,\n",
        "        num_stocks=num_assets,\n",
        "        initial_amount=1000000,\n",
        "        trade_cost=0,\n",
        "        num_features=cols_per_asset,\n",
        "        window_size=12,\n",
        "        frame_bound = (12,len(price_df)-1500),\n",
        "        tech_indicator_list=indicators)\n",
        "\n",
        "prices, features = env.process_data()"
      ],
      "metadata": {
        "id": "L0Oo10h8WtK9"
      },
      "execution_count": null,
      "outputs": []
    },
    {
      "cell_type": "markdown",
      "source": [
        "## PPO model"
      ],
      "metadata": {
        "id": "VcAUWV3ycPaj"
      }
    },
    {
      "cell_type": "code",
      "source": [
        "model = PPO('MlpPolicy', env, verbose=2,tensorboard_log='tb_logs', batch_size=256)\n",
        "model.learn(total_timesteps=1000)"
      ],
      "metadata": {
        "id": "ghq68BNccSl3"
      },
      "execution_count": null,
      "outputs": []
    },
    {
      "cell_type": "code",
      "source": [
        "plt.figure(figsize=(16, 6))\n",
        "env.render_all()\n",
        "plt.savefig('rewards.jpg')\n",
        "name=\"MultiStockTrader\"\n",
        "model.save(\"saved_models/\"+name)\n",
        "scalers = env.scalers"
      ],
      "metadata": {
        "id": "dTWOJq7PcVJk"
      },
      "execution_count": null,
      "outputs": []
    },
    {
      "cell_type": "markdown",
      "source": [
        "## Result"
      ],
      "metadata": {
        "id": "9A3nDzqvcYy3"
      }
    },
    {
      "cell_type": "code",
      "source": [
        "prices, features = env.process_data()\n",
        "obs = env.reset()\n",
        "count=0\n",
        "total_rewards = 0\n",
        "infer_rewards = []\n",
        "while True:\n",
        "        # obs = obs[np.newaxis, ...]\n",
        "        action, _states = model.predict(obs)\n",
        "        count+=1\n",
        "        obs, rewards, done, info = env.step(action)\n",
        "        print(action, rewards)\n",
        "        total_rewards += rewards\n",
        "\n",
        "        infer_rewards.append(rewards)\n",
        "        if done:\n",
        "                print(\"info\", count,info)\n",
        "                break\n",
        "\n",
        "print(\"Total profit: \\n\", sum(infer_rewards))\n",
        "\n",
        "infer_steps = price_df.index[len(price_df)-len(infer_rewards):len(price_df)]#np.array(list(range(len(infer_rewards))))\n",
        "infer_rewards = np.cumsum(np.array(infer_rewards))\n",
        "\n",
        "#sensex_values = env.representative[-len(infer_steps):]\n",
        "\n",
        "plt.title(name)\n",
        "plt.plot(infer_steps, infer_rewards, color=\"red\", label='Profit')\n",
        "# plt.plot(infer_steps, sensex_values, color=\"blue\", label='Index')\n",
        "plt.legend(loc=\"upper left\")\n",
        "plt.savefig('Infer_rewards.jpg')"
      ],
      "metadata": {
        "id": "u2HXr_q9caVB"
      },
      "execution_count": null,
      "outputs": []
    }
  ]
}